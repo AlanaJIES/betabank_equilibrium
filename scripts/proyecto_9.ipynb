{
 "cells": [
  {
   "cell_type": "markdown",
   "id": "6b69900e-95cc-4b17-bef3-575e15ddfafa",
   "metadata": {},
   "source": [
    "Proyecto 9. Beta Bank"
   ]
  },
  {
   "cell_type": "markdown",
   "id": "2b8ed398-8bb5-4da3-ac06-b9a93dab85dc",
   "metadata": {},
   "source": [
    "Paso 1. importar los datasets utilizados."
   ]
  },
  {
   "cell_type": "markdown",
   "id": "69a1c771-f478-4ad0-8f72-3c4cfd07ab16",
   "metadata": {},
   "source": [
    "Primero importaremos las librerías correspondiente. Luego de esto leemos el archivo como valores separados por comas (es CSV, de acuerdo a la terminación del archivo)."
   ]
  },
  {
   "cell_type": "code",
   "execution_count": 1,
   "id": "234a4695-a432-4de8-a1d9-1fa1d33e06d2",
   "metadata": {},
   "outputs": [],
   "source": [
    "#Librerías\n",
    "import pandas as pd\n",
    "import numpy as np\n",
    "\n",
    "from sklearn.preprocessing import OrdinalEncoder, StandardScaler\n",
    "from sklearn.utils import shuffle\n",
    "from sklearn.model_selection import train_test_split\n",
    "from sklearn.ensemble import RandomForestClassifier\n",
    "from sklearn.metrics import confusion_matrix, accuracy_score, roc_curve, f1_score, precision_recall_curve, roc_auc_score"
   ]
  },
  {
   "cell_type": "code",
   "execution_count": 2,
   "id": "c3fb7c1f-415c-41e3-ba7d-b2bfd022b99c",
   "metadata": {},
   "outputs": [],
   "source": [
    "##Leemos el archivo\n",
    "churn = pd.read_csv('/datasets/Churn.csv') "
   ]
  },
  {
   "cell_type": "markdown",
   "id": "1d90f0f4-405b-4bd5-a2b9-c88d88d0e4e8",
   "metadata": {},
   "source": [
    "Paso 2. Observar los datos que contiene y los tipos de datos."
   ]
  },
  {
   "cell_type": "markdown",
   "id": "47f6cb65-dbbb-4b13-a6f5-353b3a80cfa1",
   "metadata": {},
   "source": [
    "Se imprimen las primeras filas para verificar cual es el delimitador del archivo, como están los nombres de las columnas, entre otras cosas. Se lee la información general usando el método \"info()\", observando la presencia de datos nulos y el tipo de datos que tenemos en los data frames."
   ]
  },
  {
   "cell_type": "code",
   "execution_count": 3,
   "id": "fc5a7035-e584-46bb-8be8-5c64a2ebf9c7",
   "metadata": {},
   "outputs": [
    {
     "data": {
      "text/html": [
       "<div>\n",
       "<style scoped>\n",
       "    .dataframe tbody tr th:only-of-type {\n",
       "        vertical-align: middle;\n",
       "    }\n",
       "\n",
       "    .dataframe tbody tr th {\n",
       "        vertical-align: top;\n",
       "    }\n",
       "\n",
       "    .dataframe thead th {\n",
       "        text-align: right;\n",
       "    }\n",
       "</style>\n",
       "<table border=\"1\" class=\"dataframe\">\n",
       "  <thead>\n",
       "    <tr style=\"text-align: right;\">\n",
       "      <th></th>\n",
       "      <th>RowNumber</th>\n",
       "      <th>CustomerId</th>\n",
       "      <th>Surname</th>\n",
       "      <th>CreditScore</th>\n",
       "      <th>Geography</th>\n",
       "      <th>Gender</th>\n",
       "      <th>Age</th>\n",
       "      <th>Tenure</th>\n",
       "      <th>Balance</th>\n",
       "      <th>NumOfProducts</th>\n",
       "      <th>HasCrCard</th>\n",
       "      <th>IsActiveMember</th>\n",
       "      <th>EstimatedSalary</th>\n",
       "      <th>Exited</th>\n",
       "    </tr>\n",
       "  </thead>\n",
       "  <tbody>\n",
       "    <tr>\n",
       "      <th>0</th>\n",
       "      <td>1</td>\n",
       "      <td>15634602</td>\n",
       "      <td>Hargrave</td>\n",
       "      <td>619</td>\n",
       "      <td>France</td>\n",
       "      <td>Female</td>\n",
       "      <td>42</td>\n",
       "      <td>2.0</td>\n",
       "      <td>0.00</td>\n",
       "      <td>1</td>\n",
       "      <td>1</td>\n",
       "      <td>1</td>\n",
       "      <td>101348.88</td>\n",
       "      <td>1</td>\n",
       "    </tr>\n",
       "    <tr>\n",
       "      <th>1</th>\n",
       "      <td>2</td>\n",
       "      <td>15647311</td>\n",
       "      <td>Hill</td>\n",
       "      <td>608</td>\n",
       "      <td>Spain</td>\n",
       "      <td>Female</td>\n",
       "      <td>41</td>\n",
       "      <td>1.0</td>\n",
       "      <td>83807.86</td>\n",
       "      <td>1</td>\n",
       "      <td>0</td>\n",
       "      <td>1</td>\n",
       "      <td>112542.58</td>\n",
       "      <td>0</td>\n",
       "    </tr>\n",
       "    <tr>\n",
       "      <th>2</th>\n",
       "      <td>3</td>\n",
       "      <td>15619304</td>\n",
       "      <td>Onio</td>\n",
       "      <td>502</td>\n",
       "      <td>France</td>\n",
       "      <td>Female</td>\n",
       "      <td>42</td>\n",
       "      <td>8.0</td>\n",
       "      <td>159660.80</td>\n",
       "      <td>3</td>\n",
       "      <td>1</td>\n",
       "      <td>0</td>\n",
       "      <td>113931.57</td>\n",
       "      <td>1</td>\n",
       "    </tr>\n",
       "    <tr>\n",
       "      <th>3</th>\n",
       "      <td>4</td>\n",
       "      <td>15701354</td>\n",
       "      <td>Boni</td>\n",
       "      <td>699</td>\n",
       "      <td>France</td>\n",
       "      <td>Female</td>\n",
       "      <td>39</td>\n",
       "      <td>1.0</td>\n",
       "      <td>0.00</td>\n",
       "      <td>2</td>\n",
       "      <td>0</td>\n",
       "      <td>0</td>\n",
       "      <td>93826.63</td>\n",
       "      <td>0</td>\n",
       "    </tr>\n",
       "    <tr>\n",
       "      <th>4</th>\n",
       "      <td>5</td>\n",
       "      <td>15737888</td>\n",
       "      <td>Mitchell</td>\n",
       "      <td>850</td>\n",
       "      <td>Spain</td>\n",
       "      <td>Female</td>\n",
       "      <td>43</td>\n",
       "      <td>2.0</td>\n",
       "      <td>125510.82</td>\n",
       "      <td>1</td>\n",
       "      <td>1</td>\n",
       "      <td>1</td>\n",
       "      <td>79084.10</td>\n",
       "      <td>0</td>\n",
       "    </tr>\n",
       "    <tr>\n",
       "      <th>...</th>\n",
       "      <td>...</td>\n",
       "      <td>...</td>\n",
       "      <td>...</td>\n",
       "      <td>...</td>\n",
       "      <td>...</td>\n",
       "      <td>...</td>\n",
       "      <td>...</td>\n",
       "      <td>...</td>\n",
       "      <td>...</td>\n",
       "      <td>...</td>\n",
       "      <td>...</td>\n",
       "      <td>...</td>\n",
       "      <td>...</td>\n",
       "      <td>...</td>\n",
       "    </tr>\n",
       "    <tr>\n",
       "      <th>9995</th>\n",
       "      <td>9996</td>\n",
       "      <td>15606229</td>\n",
       "      <td>Obijiaku</td>\n",
       "      <td>771</td>\n",
       "      <td>France</td>\n",
       "      <td>Male</td>\n",
       "      <td>39</td>\n",
       "      <td>5.0</td>\n",
       "      <td>0.00</td>\n",
       "      <td>2</td>\n",
       "      <td>1</td>\n",
       "      <td>0</td>\n",
       "      <td>96270.64</td>\n",
       "      <td>0</td>\n",
       "    </tr>\n",
       "    <tr>\n",
       "      <th>9996</th>\n",
       "      <td>9997</td>\n",
       "      <td>15569892</td>\n",
       "      <td>Johnstone</td>\n",
       "      <td>516</td>\n",
       "      <td>France</td>\n",
       "      <td>Male</td>\n",
       "      <td>35</td>\n",
       "      <td>10.0</td>\n",
       "      <td>57369.61</td>\n",
       "      <td>1</td>\n",
       "      <td>1</td>\n",
       "      <td>1</td>\n",
       "      <td>101699.77</td>\n",
       "      <td>0</td>\n",
       "    </tr>\n",
       "    <tr>\n",
       "      <th>9997</th>\n",
       "      <td>9998</td>\n",
       "      <td>15584532</td>\n",
       "      <td>Liu</td>\n",
       "      <td>709</td>\n",
       "      <td>France</td>\n",
       "      <td>Female</td>\n",
       "      <td>36</td>\n",
       "      <td>7.0</td>\n",
       "      <td>0.00</td>\n",
       "      <td>1</td>\n",
       "      <td>0</td>\n",
       "      <td>1</td>\n",
       "      <td>42085.58</td>\n",
       "      <td>1</td>\n",
       "    </tr>\n",
       "    <tr>\n",
       "      <th>9998</th>\n",
       "      <td>9999</td>\n",
       "      <td>15682355</td>\n",
       "      <td>Sabbatini</td>\n",
       "      <td>772</td>\n",
       "      <td>Germany</td>\n",
       "      <td>Male</td>\n",
       "      <td>42</td>\n",
       "      <td>3.0</td>\n",
       "      <td>75075.31</td>\n",
       "      <td>2</td>\n",
       "      <td>1</td>\n",
       "      <td>0</td>\n",
       "      <td>92888.52</td>\n",
       "      <td>1</td>\n",
       "    </tr>\n",
       "    <tr>\n",
       "      <th>9999</th>\n",
       "      <td>10000</td>\n",
       "      <td>15628319</td>\n",
       "      <td>Walker</td>\n",
       "      <td>792</td>\n",
       "      <td>France</td>\n",
       "      <td>Female</td>\n",
       "      <td>28</td>\n",
       "      <td>NaN</td>\n",
       "      <td>130142.79</td>\n",
       "      <td>1</td>\n",
       "      <td>1</td>\n",
       "      <td>0</td>\n",
       "      <td>38190.78</td>\n",
       "      <td>0</td>\n",
       "    </tr>\n",
       "  </tbody>\n",
       "</table>\n",
       "<p>10000 rows × 14 columns</p>\n",
       "</div>"
      ],
      "text/plain": [
       "      RowNumber  CustomerId    Surname  CreditScore Geography  Gender  Age  \\\n",
       "0             1    15634602   Hargrave          619    France  Female   42   \n",
       "1             2    15647311       Hill          608     Spain  Female   41   \n",
       "2             3    15619304       Onio          502    France  Female   42   \n",
       "3             4    15701354       Boni          699    France  Female   39   \n",
       "4             5    15737888   Mitchell          850     Spain  Female   43   \n",
       "...         ...         ...        ...          ...       ...     ...  ...   \n",
       "9995       9996    15606229   Obijiaku          771    France    Male   39   \n",
       "9996       9997    15569892  Johnstone          516    France    Male   35   \n",
       "9997       9998    15584532        Liu          709    France  Female   36   \n",
       "9998       9999    15682355  Sabbatini          772   Germany    Male   42   \n",
       "9999      10000    15628319     Walker          792    France  Female   28   \n",
       "\n",
       "      Tenure    Balance  NumOfProducts  HasCrCard  IsActiveMember  \\\n",
       "0        2.0       0.00              1          1               1   \n",
       "1        1.0   83807.86              1          0               1   \n",
       "2        8.0  159660.80              3          1               0   \n",
       "3        1.0       0.00              2          0               0   \n",
       "4        2.0  125510.82              1          1               1   \n",
       "...      ...        ...            ...        ...             ...   \n",
       "9995     5.0       0.00              2          1               0   \n",
       "9996    10.0   57369.61              1          1               1   \n",
       "9997     7.0       0.00              1          0               1   \n",
       "9998     3.0   75075.31              2          1               0   \n",
       "9999     NaN  130142.79              1          1               0   \n",
       "\n",
       "      EstimatedSalary  Exited  \n",
       "0           101348.88       1  \n",
       "1           112542.58       0  \n",
       "2           113931.57       1  \n",
       "3            93826.63       0  \n",
       "4            79084.10       0  \n",
       "...               ...     ...  \n",
       "9995         96270.64       0  \n",
       "9996        101699.77       0  \n",
       "9997         42085.58       1  \n",
       "9998         92888.52       1  \n",
       "9999         38190.78       0  \n",
       "\n",
       "[10000 rows x 14 columns]"
      ]
     },
     "metadata": {},
     "output_type": "display_data"
    },
    {
     "name": "stdout",
     "output_type": "stream",
     "text": [
      "<class 'pandas.core.frame.DataFrame'>\n",
      "RangeIndex: 10000 entries, 0 to 9999\n",
      "Data columns (total 14 columns):\n",
      " #   Column           Non-Null Count  Dtype  \n",
      "---  ------           --------------  -----  \n",
      " 0   RowNumber        10000 non-null  int64  \n",
      " 1   CustomerId       10000 non-null  int64  \n",
      " 2   Surname          10000 non-null  object \n",
      " 3   CreditScore      10000 non-null  int64  \n",
      " 4   Geography        10000 non-null  object \n",
      " 5   Gender           10000 non-null  object \n",
      " 6   Age              10000 non-null  int64  \n",
      " 7   Tenure           9091 non-null   float64\n",
      " 8   Balance          10000 non-null  float64\n",
      " 9   NumOfProducts    10000 non-null  int64  \n",
      " 10  HasCrCard        10000 non-null  int64  \n",
      " 11  IsActiveMember   10000 non-null  int64  \n",
      " 12  EstimatedSalary  10000 non-null  float64\n",
      " 13  Exited           10000 non-null  int64  \n",
      "dtypes: float64(3), int64(8), object(3)\n",
      "memory usage: 1.1+ MB\n"
     ]
    },
    {
     "data": {
      "text/html": [
       "<div>\n",
       "<style scoped>\n",
       "    .dataframe tbody tr th:only-of-type {\n",
       "        vertical-align: middle;\n",
       "    }\n",
       "\n",
       "    .dataframe tbody tr th {\n",
       "        vertical-align: top;\n",
       "    }\n",
       "\n",
       "    .dataframe thead th {\n",
       "        text-align: right;\n",
       "    }\n",
       "</style>\n",
       "<table border=\"1\" class=\"dataframe\">\n",
       "  <thead>\n",
       "    <tr style=\"text-align: right;\">\n",
       "      <th></th>\n",
       "      <th>RowNumber</th>\n",
       "      <th>CustomerId</th>\n",
       "      <th>CreditScore</th>\n",
       "      <th>Age</th>\n",
       "      <th>Tenure</th>\n",
       "      <th>Balance</th>\n",
       "      <th>NumOfProducts</th>\n",
       "      <th>HasCrCard</th>\n",
       "      <th>IsActiveMember</th>\n",
       "      <th>EstimatedSalary</th>\n",
       "      <th>Exited</th>\n",
       "    </tr>\n",
       "  </thead>\n",
       "  <tbody>\n",
       "    <tr>\n",
       "      <th>count</th>\n",
       "      <td>10000.00000</td>\n",
       "      <td>1.000000e+04</td>\n",
       "      <td>10000.000000</td>\n",
       "      <td>10000.000000</td>\n",
       "      <td>9091.000000</td>\n",
       "      <td>10000.000000</td>\n",
       "      <td>10000.000000</td>\n",
       "      <td>10000.00000</td>\n",
       "      <td>10000.000000</td>\n",
       "      <td>10000.000000</td>\n",
       "      <td>10000.000000</td>\n",
       "    </tr>\n",
       "    <tr>\n",
       "      <th>mean</th>\n",
       "      <td>5000.50000</td>\n",
       "      <td>1.569094e+07</td>\n",
       "      <td>650.528800</td>\n",
       "      <td>38.921800</td>\n",
       "      <td>4.997690</td>\n",
       "      <td>76485.889288</td>\n",
       "      <td>1.530200</td>\n",
       "      <td>0.70550</td>\n",
       "      <td>0.515100</td>\n",
       "      <td>100090.239881</td>\n",
       "      <td>0.203700</td>\n",
       "    </tr>\n",
       "    <tr>\n",
       "      <th>std</th>\n",
       "      <td>2886.89568</td>\n",
       "      <td>7.193619e+04</td>\n",
       "      <td>96.653299</td>\n",
       "      <td>10.487806</td>\n",
       "      <td>2.894723</td>\n",
       "      <td>62397.405202</td>\n",
       "      <td>0.581654</td>\n",
       "      <td>0.45584</td>\n",
       "      <td>0.499797</td>\n",
       "      <td>57510.492818</td>\n",
       "      <td>0.402769</td>\n",
       "    </tr>\n",
       "    <tr>\n",
       "      <th>min</th>\n",
       "      <td>1.00000</td>\n",
       "      <td>1.556570e+07</td>\n",
       "      <td>350.000000</td>\n",
       "      <td>18.000000</td>\n",
       "      <td>0.000000</td>\n",
       "      <td>0.000000</td>\n",
       "      <td>1.000000</td>\n",
       "      <td>0.00000</td>\n",
       "      <td>0.000000</td>\n",
       "      <td>11.580000</td>\n",
       "      <td>0.000000</td>\n",
       "    </tr>\n",
       "    <tr>\n",
       "      <th>25%</th>\n",
       "      <td>2500.75000</td>\n",
       "      <td>1.562853e+07</td>\n",
       "      <td>584.000000</td>\n",
       "      <td>32.000000</td>\n",
       "      <td>2.000000</td>\n",
       "      <td>0.000000</td>\n",
       "      <td>1.000000</td>\n",
       "      <td>0.00000</td>\n",
       "      <td>0.000000</td>\n",
       "      <td>51002.110000</td>\n",
       "      <td>0.000000</td>\n",
       "    </tr>\n",
       "    <tr>\n",
       "      <th>50%</th>\n",
       "      <td>5000.50000</td>\n",
       "      <td>1.569074e+07</td>\n",
       "      <td>652.000000</td>\n",
       "      <td>37.000000</td>\n",
       "      <td>5.000000</td>\n",
       "      <td>97198.540000</td>\n",
       "      <td>1.000000</td>\n",
       "      <td>1.00000</td>\n",
       "      <td>1.000000</td>\n",
       "      <td>100193.915000</td>\n",
       "      <td>0.000000</td>\n",
       "    </tr>\n",
       "    <tr>\n",
       "      <th>75%</th>\n",
       "      <td>7500.25000</td>\n",
       "      <td>1.575323e+07</td>\n",
       "      <td>718.000000</td>\n",
       "      <td>44.000000</td>\n",
       "      <td>7.000000</td>\n",
       "      <td>127644.240000</td>\n",
       "      <td>2.000000</td>\n",
       "      <td>1.00000</td>\n",
       "      <td>1.000000</td>\n",
       "      <td>149388.247500</td>\n",
       "      <td>0.000000</td>\n",
       "    </tr>\n",
       "    <tr>\n",
       "      <th>max</th>\n",
       "      <td>10000.00000</td>\n",
       "      <td>1.581569e+07</td>\n",
       "      <td>850.000000</td>\n",
       "      <td>92.000000</td>\n",
       "      <td>10.000000</td>\n",
       "      <td>250898.090000</td>\n",
       "      <td>4.000000</td>\n",
       "      <td>1.00000</td>\n",
       "      <td>1.000000</td>\n",
       "      <td>199992.480000</td>\n",
       "      <td>1.000000</td>\n",
       "    </tr>\n",
       "  </tbody>\n",
       "</table>\n",
       "</div>"
      ],
      "text/plain": [
       "         RowNumber    CustomerId   CreditScore           Age       Tenure  \\\n",
       "count  10000.00000  1.000000e+04  10000.000000  10000.000000  9091.000000   \n",
       "mean    5000.50000  1.569094e+07    650.528800     38.921800     4.997690   \n",
       "std     2886.89568  7.193619e+04     96.653299     10.487806     2.894723   \n",
       "min        1.00000  1.556570e+07    350.000000     18.000000     0.000000   \n",
       "25%     2500.75000  1.562853e+07    584.000000     32.000000     2.000000   \n",
       "50%     5000.50000  1.569074e+07    652.000000     37.000000     5.000000   \n",
       "75%     7500.25000  1.575323e+07    718.000000     44.000000     7.000000   \n",
       "max    10000.00000  1.581569e+07    850.000000     92.000000    10.000000   \n",
       "\n",
       "             Balance  NumOfProducts    HasCrCard  IsActiveMember  \\\n",
       "count   10000.000000   10000.000000  10000.00000    10000.000000   \n",
       "mean    76485.889288       1.530200      0.70550        0.515100   \n",
       "std     62397.405202       0.581654      0.45584        0.499797   \n",
       "min         0.000000       1.000000      0.00000        0.000000   \n",
       "25%         0.000000       1.000000      0.00000        0.000000   \n",
       "50%     97198.540000       1.000000      1.00000        1.000000   \n",
       "75%    127644.240000       2.000000      1.00000        1.000000   \n",
       "max    250898.090000       4.000000      1.00000        1.000000   \n",
       "\n",
       "       EstimatedSalary        Exited  \n",
       "count     10000.000000  10000.000000  \n",
       "mean     100090.239881      0.203700  \n",
       "std       57510.492818      0.402769  \n",
       "min          11.580000      0.000000  \n",
       "25%       51002.110000      0.000000  \n",
       "50%      100193.915000      0.000000  \n",
       "75%      149388.247500      0.000000  \n",
       "max      199992.480000      1.000000  "
      ]
     },
     "metadata": {},
     "output_type": "display_data"
    }
   ],
   "source": [
    "#Mostramos la información del Data frame de us_behave\n",
    "display(churn)\n",
    "churn.info()\n",
    "display(churn.describe())"
   ]
  },
  {
   "cell_type": "markdown",
   "id": "14dec6fe-1e28-4a58-8795-9ed2bdfc54fb",
   "metadata": {},
   "source": [
    "Tenemos 12 características. Son las siguientes, en su respectivo orden: indice de la cadena de datos, identificador del cliente, apellido, puntaje crediticio, país de residencia, género del cliente, edad, périodo en años de maduración del depostio a plazo fijo de un cliente, saldo de la cuenta, número de productos bancarios usados por el cliente, si tiene (1=si) o no (0=no) una tarjeta de credito, actividad del cliente (1=si, 0=no) y su salario estimado. \n",
    "Entre las caractersiticas cabe destacar que Tenure tiene datos nulos, haciendo que tenga datos de tipo float, cuando podrían ser de tipo entero. \n",
    "\n",
    "Tenemos un único objetivo: Exited. Este muestra si un cliente se ha ido (1=si) o no (0=no)o)"
   ]
  },
  {
   "cell_type": "markdown",
   "id": "72945d16-f1fe-4896-8682-3634c14eebd7",
   "metadata": {},
   "source": [
    "Paso 3. Preprocesamiento de los datos."
   ]
  },
  {
   "cell_type": "markdown",
   "id": "65e5f40b-fbce-4431-89da-99c5f530c03b",
   "metadata": {},
   "source": [
    "3.1 Verificación de que no tenemos datos duplicados y observación sobre los datos nulos de tenure. "
   ]
  },
  {
   "cell_type": "code",
   "execution_count": 4,
   "id": "0779b313-09a3-45dc-a876-272d579dd729",
   "metadata": {},
   "outputs": [
    {
     "data": {
      "text/plain": [
       "0"
      ]
     },
     "metadata": {},
     "output_type": "display_data"
    }
   ],
   "source": [
    "display(churn.duplicated().sum())"
   ]
  },
  {
   "cell_type": "code",
   "execution_count": 5,
   "id": "9d79615c-1041-42a4-8a0a-b5623d40393a",
   "metadata": {},
   "outputs": [
    {
     "data": {
      "text/html": [
       "<div>\n",
       "<style scoped>\n",
       "    .dataframe tbody tr th:only-of-type {\n",
       "        vertical-align: middle;\n",
       "    }\n",
       "\n",
       "    .dataframe tbody tr th {\n",
       "        vertical-align: top;\n",
       "    }\n",
       "\n",
       "    .dataframe thead th {\n",
       "        text-align: right;\n",
       "    }\n",
       "</style>\n",
       "<table border=\"1\" class=\"dataframe\">\n",
       "  <thead>\n",
       "    <tr style=\"text-align: right;\">\n",
       "      <th></th>\n",
       "      <th>RowNumber</th>\n",
       "      <th>CustomerId</th>\n",
       "      <th>Surname</th>\n",
       "      <th>CreditScore</th>\n",
       "      <th>Geography</th>\n",
       "      <th>Gender</th>\n",
       "      <th>Age</th>\n",
       "      <th>Tenure</th>\n",
       "      <th>Balance</th>\n",
       "      <th>NumOfProducts</th>\n",
       "      <th>HasCrCard</th>\n",
       "      <th>IsActiveMember</th>\n",
       "      <th>EstimatedSalary</th>\n",
       "      <th>Exited</th>\n",
       "    </tr>\n",
       "  </thead>\n",
       "  <tbody>\n",
       "    <tr>\n",
       "      <th>30</th>\n",
       "      <td>31</td>\n",
       "      <td>15589475</td>\n",
       "      <td>Azikiwe</td>\n",
       "      <td>591</td>\n",
       "      <td>Spain</td>\n",
       "      <td>Female</td>\n",
       "      <td>39</td>\n",
       "      <td>NaN</td>\n",
       "      <td>0.00</td>\n",
       "      <td>3</td>\n",
       "      <td>1</td>\n",
       "      <td>0</td>\n",
       "      <td>140469.38</td>\n",
       "      <td>1</td>\n",
       "    </tr>\n",
       "    <tr>\n",
       "      <th>48</th>\n",
       "      <td>49</td>\n",
       "      <td>15766205</td>\n",
       "      <td>Yin</td>\n",
       "      <td>550</td>\n",
       "      <td>Germany</td>\n",
       "      <td>Male</td>\n",
       "      <td>38</td>\n",
       "      <td>NaN</td>\n",
       "      <td>103391.38</td>\n",
       "      <td>1</td>\n",
       "      <td>0</td>\n",
       "      <td>1</td>\n",
       "      <td>90878.13</td>\n",
       "      <td>0</td>\n",
       "    </tr>\n",
       "    <tr>\n",
       "      <th>51</th>\n",
       "      <td>52</td>\n",
       "      <td>15768193</td>\n",
       "      <td>Trevisani</td>\n",
       "      <td>585</td>\n",
       "      <td>Germany</td>\n",
       "      <td>Male</td>\n",
       "      <td>36</td>\n",
       "      <td>NaN</td>\n",
       "      <td>146050.97</td>\n",
       "      <td>2</td>\n",
       "      <td>0</td>\n",
       "      <td>0</td>\n",
       "      <td>86424.57</td>\n",
       "      <td>0</td>\n",
       "    </tr>\n",
       "    <tr>\n",
       "      <th>53</th>\n",
       "      <td>54</td>\n",
       "      <td>15702298</td>\n",
       "      <td>Parkhill</td>\n",
       "      <td>655</td>\n",
       "      <td>Germany</td>\n",
       "      <td>Male</td>\n",
       "      <td>41</td>\n",
       "      <td>NaN</td>\n",
       "      <td>125561.97</td>\n",
       "      <td>1</td>\n",
       "      <td>0</td>\n",
       "      <td>0</td>\n",
       "      <td>164040.94</td>\n",
       "      <td>1</td>\n",
       "    </tr>\n",
       "    <tr>\n",
       "      <th>60</th>\n",
       "      <td>61</td>\n",
       "      <td>15651280</td>\n",
       "      <td>Hunter</td>\n",
       "      <td>742</td>\n",
       "      <td>Germany</td>\n",
       "      <td>Male</td>\n",
       "      <td>35</td>\n",
       "      <td>NaN</td>\n",
       "      <td>136857.00</td>\n",
       "      <td>1</td>\n",
       "      <td>0</td>\n",
       "      <td>0</td>\n",
       "      <td>84509.57</td>\n",
       "      <td>0</td>\n",
       "    </tr>\n",
       "    <tr>\n",
       "      <th>...</th>\n",
       "      <td>...</td>\n",
       "      <td>...</td>\n",
       "      <td>...</td>\n",
       "      <td>...</td>\n",
       "      <td>...</td>\n",
       "      <td>...</td>\n",
       "      <td>...</td>\n",
       "      <td>...</td>\n",
       "      <td>...</td>\n",
       "      <td>...</td>\n",
       "      <td>...</td>\n",
       "      <td>...</td>\n",
       "      <td>...</td>\n",
       "      <td>...</td>\n",
       "    </tr>\n",
       "    <tr>\n",
       "      <th>9944</th>\n",
       "      <td>9945</td>\n",
       "      <td>15703923</td>\n",
       "      <td>Cameron</td>\n",
       "      <td>744</td>\n",
       "      <td>Germany</td>\n",
       "      <td>Male</td>\n",
       "      <td>41</td>\n",
       "      <td>NaN</td>\n",
       "      <td>190409.34</td>\n",
       "      <td>2</td>\n",
       "      <td>1</td>\n",
       "      <td>1</td>\n",
       "      <td>138361.48</td>\n",
       "      <td>0</td>\n",
       "    </tr>\n",
       "    <tr>\n",
       "      <th>9956</th>\n",
       "      <td>9957</td>\n",
       "      <td>15707861</td>\n",
       "      <td>Nucci</td>\n",
       "      <td>520</td>\n",
       "      <td>France</td>\n",
       "      <td>Female</td>\n",
       "      <td>46</td>\n",
       "      <td>NaN</td>\n",
       "      <td>85216.61</td>\n",
       "      <td>1</td>\n",
       "      <td>1</td>\n",
       "      <td>0</td>\n",
       "      <td>117369.52</td>\n",
       "      <td>1</td>\n",
       "    </tr>\n",
       "    <tr>\n",
       "      <th>9964</th>\n",
       "      <td>9965</td>\n",
       "      <td>15642785</td>\n",
       "      <td>Douglas</td>\n",
       "      <td>479</td>\n",
       "      <td>France</td>\n",
       "      <td>Male</td>\n",
       "      <td>34</td>\n",
       "      <td>NaN</td>\n",
       "      <td>117593.48</td>\n",
       "      <td>2</td>\n",
       "      <td>0</td>\n",
       "      <td>0</td>\n",
       "      <td>113308.29</td>\n",
       "      <td>0</td>\n",
       "    </tr>\n",
       "    <tr>\n",
       "      <th>9985</th>\n",
       "      <td>9986</td>\n",
       "      <td>15586914</td>\n",
       "      <td>Nepean</td>\n",
       "      <td>659</td>\n",
       "      <td>France</td>\n",
       "      <td>Male</td>\n",
       "      <td>36</td>\n",
       "      <td>NaN</td>\n",
       "      <td>123841.49</td>\n",
       "      <td>2</td>\n",
       "      <td>1</td>\n",
       "      <td>0</td>\n",
       "      <td>96833.00</td>\n",
       "      <td>0</td>\n",
       "    </tr>\n",
       "    <tr>\n",
       "      <th>9999</th>\n",
       "      <td>10000</td>\n",
       "      <td>15628319</td>\n",
       "      <td>Walker</td>\n",
       "      <td>792</td>\n",
       "      <td>France</td>\n",
       "      <td>Female</td>\n",
       "      <td>28</td>\n",
       "      <td>NaN</td>\n",
       "      <td>130142.79</td>\n",
       "      <td>1</td>\n",
       "      <td>1</td>\n",
       "      <td>0</td>\n",
       "      <td>38190.78</td>\n",
       "      <td>0</td>\n",
       "    </tr>\n",
       "  </tbody>\n",
       "</table>\n",
       "<p>909 rows × 14 columns</p>\n",
       "</div>"
      ],
      "text/plain": [
       "      RowNumber  CustomerId    Surname  CreditScore Geography  Gender  Age  \\\n",
       "30           31    15589475    Azikiwe          591     Spain  Female   39   \n",
       "48           49    15766205        Yin          550   Germany    Male   38   \n",
       "51           52    15768193  Trevisani          585   Germany    Male   36   \n",
       "53           54    15702298   Parkhill          655   Germany    Male   41   \n",
       "60           61    15651280     Hunter          742   Germany    Male   35   \n",
       "...         ...         ...        ...          ...       ...     ...  ...   \n",
       "9944       9945    15703923    Cameron          744   Germany    Male   41   \n",
       "9956       9957    15707861      Nucci          520    France  Female   46   \n",
       "9964       9965    15642785    Douglas          479    France    Male   34   \n",
       "9985       9986    15586914     Nepean          659    France    Male   36   \n",
       "9999      10000    15628319     Walker          792    France  Female   28   \n",
       "\n",
       "      Tenure    Balance  NumOfProducts  HasCrCard  IsActiveMember  \\\n",
       "30       NaN       0.00              3          1               0   \n",
       "48       NaN  103391.38              1          0               1   \n",
       "51       NaN  146050.97              2          0               0   \n",
       "53       NaN  125561.97              1          0               0   \n",
       "60       NaN  136857.00              1          0               0   \n",
       "...      ...        ...            ...        ...             ...   \n",
       "9944     NaN  190409.34              2          1               1   \n",
       "9956     NaN   85216.61              1          1               0   \n",
       "9964     NaN  117593.48              2          0               0   \n",
       "9985     NaN  123841.49              2          1               0   \n",
       "9999     NaN  130142.79              1          1               0   \n",
       "\n",
       "      EstimatedSalary  Exited  \n",
       "30          140469.38       1  \n",
       "48           90878.13       0  \n",
       "51           86424.57       0  \n",
       "53          164040.94       1  \n",
       "60           84509.57       0  \n",
       "...               ...     ...  \n",
       "9944        138361.48       0  \n",
       "9956        117369.52       1  \n",
       "9964        113308.29       0  \n",
       "9985         96833.00       0  \n",
       "9999         38190.78       0  \n",
       "\n",
       "[909 rows x 14 columns]"
      ]
     },
     "metadata": {},
     "output_type": "display_data"
    }
   ],
   "source": [
    "display(churn[churn[\"Tenure\"].isna()])"
   ]
  },
  {
   "cell_type": "markdown",
   "id": "f7db9586-a672-45c0-91f1-52cacdb84e15",
   "metadata": {},
   "source": [
    "No se observan datos duplicados en el Dataframe, además de que los datos nulos de Tenure no parecen tener un patrón con otros datos. Como se observó nteriormente, la mediana de los datos de tenure es 5.0. Se usará este dato para llenar los datos nulos."
   ]
  },
  {
   "cell_type": "code",
   "execution_count": 6,
   "id": "a0e4fa72-c4d7-403f-ba33-3716c4265b65",
   "metadata": {},
   "outputs": [
    {
     "name": "stdout",
     "output_type": "stream",
     "text": [
      "<class 'pandas.core.frame.DataFrame'>\n",
      "RangeIndex: 10000 entries, 0 to 9999\n",
      "Data columns (total 14 columns):\n",
      " #   Column           Non-Null Count  Dtype  \n",
      "---  ------           --------------  -----  \n",
      " 0   RowNumber        10000 non-null  int64  \n",
      " 1   CustomerId       10000 non-null  int64  \n",
      " 2   Surname          10000 non-null  object \n",
      " 3   CreditScore      10000 non-null  int64  \n",
      " 4   Geography        10000 non-null  object \n",
      " 5   Gender           10000 non-null  object \n",
      " 6   Age              10000 non-null  int64  \n",
      " 7   Tenure           10000 non-null  float64\n",
      " 8   Balance          10000 non-null  float64\n",
      " 9   NumOfProducts    10000 non-null  int64  \n",
      " 10  HasCrCard        10000 non-null  int64  \n",
      " 11  IsActiveMember   10000 non-null  int64  \n",
      " 12  EstimatedSalary  10000 non-null  float64\n",
      " 13  Exited           10000 non-null  int64  \n",
      "dtypes: float64(3), int64(8), object(3)\n",
      "memory usage: 1.1+ MB\n"
     ]
    }
   ],
   "source": [
    "churn[\"Tenure\"]= churn[\"Tenure\"].fillna(churn[\"Tenure\"].median())\n",
    "churn.info()"
   ]
  },
  {
   "cell_type": "markdown",
   "id": "09df1ffb-d3fb-410c-87ed-3136fde76d1b",
   "metadata": {},
   "source": [
    "3.2 Eliminación de columnas que podrían afectar negativamente a nuestro modelo."
   ]
  },
  {
   "cell_type": "markdown",
   "id": "cb507012-d950-4648-b519-c1b5b9e42720",
   "metadata": {},
   "source": [
    "Se eliminaran los datos que no parecen ser relevantes para nuestro modelo, como es el caso de las columnas RowNumber, Surname y CustomerId."
   ]
  },
  {
   "cell_type": "code",
   "execution_count": 7,
   "id": "ca89cd6f-ee60-417a-b2b0-ce32af7e29cf",
   "metadata": {},
   "outputs": [
    {
     "data": {
      "text/html": [
       "<div>\n",
       "<style scoped>\n",
       "    .dataframe tbody tr th:only-of-type {\n",
       "        vertical-align: middle;\n",
       "    }\n",
       "\n",
       "    .dataframe tbody tr th {\n",
       "        vertical-align: top;\n",
       "    }\n",
       "\n",
       "    .dataframe thead th {\n",
       "        text-align: right;\n",
       "    }\n",
       "</style>\n",
       "<table border=\"1\" class=\"dataframe\">\n",
       "  <thead>\n",
       "    <tr style=\"text-align: right;\">\n",
       "      <th></th>\n",
       "      <th>CreditScore</th>\n",
       "      <th>Geography</th>\n",
       "      <th>Gender</th>\n",
       "      <th>Age</th>\n",
       "      <th>Tenure</th>\n",
       "      <th>Balance</th>\n",
       "      <th>NumOfProducts</th>\n",
       "      <th>HasCrCard</th>\n",
       "      <th>IsActiveMember</th>\n",
       "      <th>EstimatedSalary</th>\n",
       "      <th>Exited</th>\n",
       "    </tr>\n",
       "  </thead>\n",
       "  <tbody>\n",
       "    <tr>\n",
       "      <th>0</th>\n",
       "      <td>619</td>\n",
       "      <td>France</td>\n",
       "      <td>Female</td>\n",
       "      <td>42</td>\n",
       "      <td>2.0</td>\n",
       "      <td>0.00</td>\n",
       "      <td>1</td>\n",
       "      <td>1</td>\n",
       "      <td>1</td>\n",
       "      <td>101348.88</td>\n",
       "      <td>1</td>\n",
       "    </tr>\n",
       "    <tr>\n",
       "      <th>1</th>\n",
       "      <td>608</td>\n",
       "      <td>Spain</td>\n",
       "      <td>Female</td>\n",
       "      <td>41</td>\n",
       "      <td>1.0</td>\n",
       "      <td>83807.86</td>\n",
       "      <td>1</td>\n",
       "      <td>0</td>\n",
       "      <td>1</td>\n",
       "      <td>112542.58</td>\n",
       "      <td>0</td>\n",
       "    </tr>\n",
       "    <tr>\n",
       "      <th>2</th>\n",
       "      <td>502</td>\n",
       "      <td>France</td>\n",
       "      <td>Female</td>\n",
       "      <td>42</td>\n",
       "      <td>8.0</td>\n",
       "      <td>159660.80</td>\n",
       "      <td>3</td>\n",
       "      <td>1</td>\n",
       "      <td>0</td>\n",
       "      <td>113931.57</td>\n",
       "      <td>1</td>\n",
       "    </tr>\n",
       "    <tr>\n",
       "      <th>3</th>\n",
       "      <td>699</td>\n",
       "      <td>France</td>\n",
       "      <td>Female</td>\n",
       "      <td>39</td>\n",
       "      <td>1.0</td>\n",
       "      <td>0.00</td>\n",
       "      <td>2</td>\n",
       "      <td>0</td>\n",
       "      <td>0</td>\n",
       "      <td>93826.63</td>\n",
       "      <td>0</td>\n",
       "    </tr>\n",
       "    <tr>\n",
       "      <th>4</th>\n",
       "      <td>850</td>\n",
       "      <td>Spain</td>\n",
       "      <td>Female</td>\n",
       "      <td>43</td>\n",
       "      <td>2.0</td>\n",
       "      <td>125510.82</td>\n",
       "      <td>1</td>\n",
       "      <td>1</td>\n",
       "      <td>1</td>\n",
       "      <td>79084.10</td>\n",
       "      <td>0</td>\n",
       "    </tr>\n",
       "    <tr>\n",
       "      <th>...</th>\n",
       "      <td>...</td>\n",
       "      <td>...</td>\n",
       "      <td>...</td>\n",
       "      <td>...</td>\n",
       "      <td>...</td>\n",
       "      <td>...</td>\n",
       "      <td>...</td>\n",
       "      <td>...</td>\n",
       "      <td>...</td>\n",
       "      <td>...</td>\n",
       "      <td>...</td>\n",
       "    </tr>\n",
       "    <tr>\n",
       "      <th>9995</th>\n",
       "      <td>771</td>\n",
       "      <td>France</td>\n",
       "      <td>Male</td>\n",
       "      <td>39</td>\n",
       "      <td>5.0</td>\n",
       "      <td>0.00</td>\n",
       "      <td>2</td>\n",
       "      <td>1</td>\n",
       "      <td>0</td>\n",
       "      <td>96270.64</td>\n",
       "      <td>0</td>\n",
       "    </tr>\n",
       "    <tr>\n",
       "      <th>9996</th>\n",
       "      <td>516</td>\n",
       "      <td>France</td>\n",
       "      <td>Male</td>\n",
       "      <td>35</td>\n",
       "      <td>10.0</td>\n",
       "      <td>57369.61</td>\n",
       "      <td>1</td>\n",
       "      <td>1</td>\n",
       "      <td>1</td>\n",
       "      <td>101699.77</td>\n",
       "      <td>0</td>\n",
       "    </tr>\n",
       "    <tr>\n",
       "      <th>9997</th>\n",
       "      <td>709</td>\n",
       "      <td>France</td>\n",
       "      <td>Female</td>\n",
       "      <td>36</td>\n",
       "      <td>7.0</td>\n",
       "      <td>0.00</td>\n",
       "      <td>1</td>\n",
       "      <td>0</td>\n",
       "      <td>1</td>\n",
       "      <td>42085.58</td>\n",
       "      <td>1</td>\n",
       "    </tr>\n",
       "    <tr>\n",
       "      <th>9998</th>\n",
       "      <td>772</td>\n",
       "      <td>Germany</td>\n",
       "      <td>Male</td>\n",
       "      <td>42</td>\n",
       "      <td>3.0</td>\n",
       "      <td>75075.31</td>\n",
       "      <td>2</td>\n",
       "      <td>1</td>\n",
       "      <td>0</td>\n",
       "      <td>92888.52</td>\n",
       "      <td>1</td>\n",
       "    </tr>\n",
       "    <tr>\n",
       "      <th>9999</th>\n",
       "      <td>792</td>\n",
       "      <td>France</td>\n",
       "      <td>Female</td>\n",
       "      <td>28</td>\n",
       "      <td>5.0</td>\n",
       "      <td>130142.79</td>\n",
       "      <td>1</td>\n",
       "      <td>1</td>\n",
       "      <td>0</td>\n",
       "      <td>38190.78</td>\n",
       "      <td>0</td>\n",
       "    </tr>\n",
       "  </tbody>\n",
       "</table>\n",
       "<p>10000 rows × 11 columns</p>\n",
       "</div>"
      ],
      "text/plain": [
       "      CreditScore Geography  Gender  Age  Tenure    Balance  NumOfProducts  \\\n",
       "0             619    France  Female   42     2.0       0.00              1   \n",
       "1             608     Spain  Female   41     1.0   83807.86              1   \n",
       "2             502    France  Female   42     8.0  159660.80              3   \n",
       "3             699    France  Female   39     1.0       0.00              2   \n",
       "4             850     Spain  Female   43     2.0  125510.82              1   \n",
       "...           ...       ...     ...  ...     ...        ...            ...   \n",
       "9995          771    France    Male   39     5.0       0.00              2   \n",
       "9996          516    France    Male   35    10.0   57369.61              1   \n",
       "9997          709    France  Female   36     7.0       0.00              1   \n",
       "9998          772   Germany    Male   42     3.0   75075.31              2   \n",
       "9999          792    France  Female   28     5.0  130142.79              1   \n",
       "\n",
       "      HasCrCard  IsActiveMember  EstimatedSalary  Exited  \n",
       "0             1               1        101348.88       1  \n",
       "1             0               1        112542.58       0  \n",
       "2             1               0        113931.57       1  \n",
       "3             0               0         93826.63       0  \n",
       "4             1               1         79084.10       0  \n",
       "...         ...             ...              ...     ...  \n",
       "9995          1               0         96270.64       0  \n",
       "9996          1               1        101699.77       0  \n",
       "9997          0               1         42085.58       1  \n",
       "9998          1               0         92888.52       1  \n",
       "9999          1               0         38190.78       0  \n",
       "\n",
       "[10000 rows x 11 columns]"
      ]
     },
     "metadata": {},
     "output_type": "display_data"
    }
   ],
   "source": [
    "churn=churn.drop(columns=['RowNumber', \"Surname\", \"CustomerId\"])\n",
    "display(churn)"
   ]
  },
  {
   "cell_type": "markdown",
   "id": "cc7d6e76-d79b-46c4-86f8-92dd20ae5b00",
   "metadata": {},
   "source": [
    "3.3 Estandarización de los datos numéricos no binarios."
   ]
  },
  {
   "cell_type": "markdown",
   "id": "a99cbaae-080f-4253-814a-5ececb5a161c",
   "metadata": {},
   "source": [
    "Se estandarizarán los datos de las columnas numericas no binarias"
   ]
  },
  {
   "cell_type": "code",
   "execution_count": 8,
   "id": "5db68824-b1a4-435e-b735-9ecf2a30f39b",
   "metadata": {},
   "outputs": [
    {
     "data": {
      "text/html": [
       "<div>\n",
       "<style scoped>\n",
       "    .dataframe tbody tr th:only-of-type {\n",
       "        vertical-align: middle;\n",
       "    }\n",
       "\n",
       "    .dataframe tbody tr th {\n",
       "        vertical-align: top;\n",
       "    }\n",
       "\n",
       "    .dataframe thead th {\n",
       "        text-align: right;\n",
       "    }\n",
       "</style>\n",
       "<table border=\"1\" class=\"dataframe\">\n",
       "  <thead>\n",
       "    <tr style=\"text-align: right;\">\n",
       "      <th></th>\n",
       "      <th>CreditScore</th>\n",
       "      <th>Geography</th>\n",
       "      <th>Gender</th>\n",
       "      <th>Age</th>\n",
       "      <th>Tenure</th>\n",
       "      <th>Balance</th>\n",
       "      <th>NumOfProducts</th>\n",
       "      <th>HasCrCard</th>\n",
       "      <th>IsActiveMember</th>\n",
       "      <th>EstimatedSalary</th>\n",
       "      <th>Exited</th>\n",
       "    </tr>\n",
       "  </thead>\n",
       "  <tbody>\n",
       "    <tr>\n",
       "      <th>0</th>\n",
       "      <td>-0.326221</td>\n",
       "      <td>France</td>\n",
       "      <td>Female</td>\n",
       "      <td>0.293517</td>\n",
       "      <td>-1.086246</td>\n",
       "      <td>-1.225848</td>\n",
       "      <td>-0.911583</td>\n",
       "      <td>1</td>\n",
       "      <td>1</td>\n",
       "      <td>0.021886</td>\n",
       "      <td>1</td>\n",
       "    </tr>\n",
       "    <tr>\n",
       "      <th>1</th>\n",
       "      <td>-0.440036</td>\n",
       "      <td>Spain</td>\n",
       "      <td>Female</td>\n",
       "      <td>0.198164</td>\n",
       "      <td>-1.448581</td>\n",
       "      <td>0.117350</td>\n",
       "      <td>-0.911583</td>\n",
       "      <td>0</td>\n",
       "      <td>1</td>\n",
       "      <td>0.216534</td>\n",
       "      <td>0</td>\n",
       "    </tr>\n",
       "    <tr>\n",
       "      <th>2</th>\n",
       "      <td>-1.536794</td>\n",
       "      <td>France</td>\n",
       "      <td>Female</td>\n",
       "      <td>0.293517</td>\n",
       "      <td>1.087768</td>\n",
       "      <td>1.333053</td>\n",
       "      <td>2.527057</td>\n",
       "      <td>1</td>\n",
       "      <td>0</td>\n",
       "      <td>0.240687</td>\n",
       "      <td>1</td>\n",
       "    </tr>\n",
       "    <tr>\n",
       "      <th>3</th>\n",
       "      <td>0.501521</td>\n",
       "      <td>France</td>\n",
       "      <td>Female</td>\n",
       "      <td>0.007457</td>\n",
       "      <td>-1.448581</td>\n",
       "      <td>-1.225848</td>\n",
       "      <td>0.807737</td>\n",
       "      <td>0</td>\n",
       "      <td>0</td>\n",
       "      <td>-0.108918</td>\n",
       "      <td>0</td>\n",
       "    </tr>\n",
       "    <tr>\n",
       "      <th>4</th>\n",
       "      <td>2.063884</td>\n",
       "      <td>Spain</td>\n",
       "      <td>Female</td>\n",
       "      <td>0.388871</td>\n",
       "      <td>-1.086246</td>\n",
       "      <td>0.785728</td>\n",
       "      <td>-0.911583</td>\n",
       "      <td>1</td>\n",
       "      <td>1</td>\n",
       "      <td>-0.365276</td>\n",
       "      <td>0</td>\n",
       "    </tr>\n",
       "    <tr>\n",
       "      <th>...</th>\n",
       "      <td>...</td>\n",
       "      <td>...</td>\n",
       "      <td>...</td>\n",
       "      <td>...</td>\n",
       "      <td>...</td>\n",
       "      <td>...</td>\n",
       "      <td>...</td>\n",
       "      <td>...</td>\n",
       "      <td>...</td>\n",
       "      <td>...</td>\n",
       "      <td>...</td>\n",
       "    </tr>\n",
       "    <tr>\n",
       "      <th>9995</th>\n",
       "      <td>1.246488</td>\n",
       "      <td>France</td>\n",
       "      <td>Male</td>\n",
       "      <td>0.007457</td>\n",
       "      <td>0.000761</td>\n",
       "      <td>-1.225848</td>\n",
       "      <td>0.807737</td>\n",
       "      <td>1</td>\n",
       "      <td>0</td>\n",
       "      <td>-0.066419</td>\n",
       "      <td>0</td>\n",
       "    </tr>\n",
       "    <tr>\n",
       "      <th>9996</th>\n",
       "      <td>-1.391939</td>\n",
       "      <td>France</td>\n",
       "      <td>Male</td>\n",
       "      <td>-0.373958</td>\n",
       "      <td>1.812439</td>\n",
       "      <td>-0.306379</td>\n",
       "      <td>-0.911583</td>\n",
       "      <td>1</td>\n",
       "      <td>1</td>\n",
       "      <td>0.027988</td>\n",
       "      <td>0</td>\n",
       "    </tr>\n",
       "    <tr>\n",
       "      <th>9997</th>\n",
       "      <td>0.604988</td>\n",
       "      <td>France</td>\n",
       "      <td>Female</td>\n",
       "      <td>-0.278604</td>\n",
       "      <td>0.725432</td>\n",
       "      <td>-1.225848</td>\n",
       "      <td>-0.911583</td>\n",
       "      <td>0</td>\n",
       "      <td>1</td>\n",
       "      <td>-1.008643</td>\n",
       "      <td>1</td>\n",
       "    </tr>\n",
       "    <tr>\n",
       "      <th>9998</th>\n",
       "      <td>1.256835</td>\n",
       "      <td>Germany</td>\n",
       "      <td>Male</td>\n",
       "      <td>0.293517</td>\n",
       "      <td>-0.723910</td>\n",
       "      <td>-0.022608</td>\n",
       "      <td>0.807737</td>\n",
       "      <td>1</td>\n",
       "      <td>0</td>\n",
       "      <td>-0.125231</td>\n",
       "      <td>1</td>\n",
       "    </tr>\n",
       "    <tr>\n",
       "      <th>9999</th>\n",
       "      <td>1.463771</td>\n",
       "      <td>France</td>\n",
       "      <td>Female</td>\n",
       "      <td>-1.041433</td>\n",
       "      <td>0.000761</td>\n",
       "      <td>0.859965</td>\n",
       "      <td>-0.911583</td>\n",
       "      <td>1</td>\n",
       "      <td>0</td>\n",
       "      <td>-1.076370</td>\n",
       "      <td>0</td>\n",
       "    </tr>\n",
       "  </tbody>\n",
       "</table>\n",
       "<p>10000 rows × 11 columns</p>\n",
       "</div>"
      ],
      "text/plain": [
       "      CreditScore Geography  Gender       Age    Tenure   Balance  \\\n",
       "0       -0.326221    France  Female  0.293517 -1.086246 -1.225848   \n",
       "1       -0.440036     Spain  Female  0.198164 -1.448581  0.117350   \n",
       "2       -1.536794    France  Female  0.293517  1.087768  1.333053   \n",
       "3        0.501521    France  Female  0.007457 -1.448581 -1.225848   \n",
       "4        2.063884     Spain  Female  0.388871 -1.086246  0.785728   \n",
       "...           ...       ...     ...       ...       ...       ...   \n",
       "9995     1.246488    France    Male  0.007457  0.000761 -1.225848   \n",
       "9996    -1.391939    France    Male -0.373958  1.812439 -0.306379   \n",
       "9997     0.604988    France  Female -0.278604  0.725432 -1.225848   \n",
       "9998     1.256835   Germany    Male  0.293517 -0.723910 -0.022608   \n",
       "9999     1.463771    France  Female -1.041433  0.000761  0.859965   \n",
       "\n",
       "      NumOfProducts  HasCrCard  IsActiveMember  EstimatedSalary  Exited  \n",
       "0         -0.911583          1               1         0.021886       1  \n",
       "1         -0.911583          0               1         0.216534       0  \n",
       "2          2.527057          1               0         0.240687       1  \n",
       "3          0.807737          0               0        -0.108918       0  \n",
       "4         -0.911583          1               1        -0.365276       0  \n",
       "...             ...        ...             ...              ...     ...  \n",
       "9995       0.807737          1               0        -0.066419       0  \n",
       "9996      -0.911583          1               1         0.027988       0  \n",
       "9997      -0.911583          0               1        -1.008643       1  \n",
       "9998       0.807737          1               0        -0.125231       1  \n",
       "9999      -0.911583          1               0        -1.076370       0  \n",
       "\n",
       "[10000 rows x 11 columns]"
      ]
     },
     "metadata": {},
     "output_type": "display_data"
    }
   ],
   "source": [
    "# Identificar columnas numéricas\n",
    "columnas_numericas = churn.select_dtypes(include=['number']).columns\n",
    "\n",
    "# Identificar columnas binarias (aquellas con exactamente 2 valores únicos)\n",
    "columnas_binarias = [col for col in columnas_numericas if churn[col].nunique() == 2]\n",
    "\n",
    "# Identificar columnas numéricas no binarias\n",
    "columnas_no_binarias = [col for col in columnas_numericas if col not in columnas_binarias]\n",
    "\n",
    "# Inicializar el escalador estándar\n",
    "scaler = StandardScaler()\n",
    "\n",
    "# Estandarizar solo las columnas numéricas no binarias\n",
    "churn[columnas_no_binarias] = scaler.fit_transform(churn[columnas_no_binarias])\n",
    "display(churn)"
   ]
  },
  {
   "cell_type": "markdown",
   "id": "a262c8a5-3706-4a34-8336-cb514462e751",
   "metadata": {},
   "source": [
    "Paso 3.2 Codificación ordinal de nuestro Dataframe. "
   ]
  },
  {
   "cell_type": "markdown",
   "id": "374422ea-4187-480e-ae8e-9b215bd04cef",
   "metadata": {},
   "source": [
    "Se hace la codificación ordinal usando unicamente las columnas con datos de tipo objeto."
   ]
  },
  {
   "cell_type": "code",
   "execution_count": 9,
   "id": "e71ed185-c4ac-47ec-93f6-ccba3667daa6",
   "metadata": {},
   "outputs": [
    {
     "data": {
      "text/html": [
       "<div>\n",
       "<style scoped>\n",
       "    .dataframe tbody tr th:only-of-type {\n",
       "        vertical-align: middle;\n",
       "    }\n",
       "\n",
       "    .dataframe tbody tr th {\n",
       "        vertical-align: top;\n",
       "    }\n",
       "\n",
       "    .dataframe thead th {\n",
       "        text-align: right;\n",
       "    }\n",
       "</style>\n",
       "<table border=\"1\" class=\"dataframe\">\n",
       "  <thead>\n",
       "    <tr style=\"text-align: right;\">\n",
       "      <th></th>\n",
       "      <th>CreditScore</th>\n",
       "      <th>Geography</th>\n",
       "      <th>Gender</th>\n",
       "      <th>Age</th>\n",
       "      <th>Tenure</th>\n",
       "      <th>Balance</th>\n",
       "      <th>NumOfProducts</th>\n",
       "      <th>HasCrCard</th>\n",
       "      <th>IsActiveMember</th>\n",
       "      <th>EstimatedSalary</th>\n",
       "      <th>Exited</th>\n",
       "    </tr>\n",
       "  </thead>\n",
       "  <tbody>\n",
       "    <tr>\n",
       "      <th>0</th>\n",
       "      <td>-0.326221</td>\n",
       "      <td>0.0</td>\n",
       "      <td>0.0</td>\n",
       "      <td>0.293517</td>\n",
       "      <td>-1.086246</td>\n",
       "      <td>-1.225848</td>\n",
       "      <td>-0.911583</td>\n",
       "      <td>1</td>\n",
       "      <td>1</td>\n",
       "      <td>0.021886</td>\n",
       "      <td>1</td>\n",
       "    </tr>\n",
       "    <tr>\n",
       "      <th>1</th>\n",
       "      <td>-0.440036</td>\n",
       "      <td>2.0</td>\n",
       "      <td>0.0</td>\n",
       "      <td>0.198164</td>\n",
       "      <td>-1.448581</td>\n",
       "      <td>0.117350</td>\n",
       "      <td>-0.911583</td>\n",
       "      <td>0</td>\n",
       "      <td>1</td>\n",
       "      <td>0.216534</td>\n",
       "      <td>0</td>\n",
       "    </tr>\n",
       "    <tr>\n",
       "      <th>2</th>\n",
       "      <td>-1.536794</td>\n",
       "      <td>0.0</td>\n",
       "      <td>0.0</td>\n",
       "      <td>0.293517</td>\n",
       "      <td>1.087768</td>\n",
       "      <td>1.333053</td>\n",
       "      <td>2.527057</td>\n",
       "      <td>1</td>\n",
       "      <td>0</td>\n",
       "      <td>0.240687</td>\n",
       "      <td>1</td>\n",
       "    </tr>\n",
       "    <tr>\n",
       "      <th>3</th>\n",
       "      <td>0.501521</td>\n",
       "      <td>0.0</td>\n",
       "      <td>0.0</td>\n",
       "      <td>0.007457</td>\n",
       "      <td>-1.448581</td>\n",
       "      <td>-1.225848</td>\n",
       "      <td>0.807737</td>\n",
       "      <td>0</td>\n",
       "      <td>0</td>\n",
       "      <td>-0.108918</td>\n",
       "      <td>0</td>\n",
       "    </tr>\n",
       "    <tr>\n",
       "      <th>4</th>\n",
       "      <td>2.063884</td>\n",
       "      <td>2.0</td>\n",
       "      <td>0.0</td>\n",
       "      <td>0.388871</td>\n",
       "      <td>-1.086246</td>\n",
       "      <td>0.785728</td>\n",
       "      <td>-0.911583</td>\n",
       "      <td>1</td>\n",
       "      <td>1</td>\n",
       "      <td>-0.365276</td>\n",
       "      <td>0</td>\n",
       "    </tr>\n",
       "    <tr>\n",
       "      <th>...</th>\n",
       "      <td>...</td>\n",
       "      <td>...</td>\n",
       "      <td>...</td>\n",
       "      <td>...</td>\n",
       "      <td>...</td>\n",
       "      <td>...</td>\n",
       "      <td>...</td>\n",
       "      <td>...</td>\n",
       "      <td>...</td>\n",
       "      <td>...</td>\n",
       "      <td>...</td>\n",
       "    </tr>\n",
       "    <tr>\n",
       "      <th>9995</th>\n",
       "      <td>1.246488</td>\n",
       "      <td>0.0</td>\n",
       "      <td>1.0</td>\n",
       "      <td>0.007457</td>\n",
       "      <td>0.000761</td>\n",
       "      <td>-1.225848</td>\n",
       "      <td>0.807737</td>\n",
       "      <td>1</td>\n",
       "      <td>0</td>\n",
       "      <td>-0.066419</td>\n",
       "      <td>0</td>\n",
       "    </tr>\n",
       "    <tr>\n",
       "      <th>9996</th>\n",
       "      <td>-1.391939</td>\n",
       "      <td>0.0</td>\n",
       "      <td>1.0</td>\n",
       "      <td>-0.373958</td>\n",
       "      <td>1.812439</td>\n",
       "      <td>-0.306379</td>\n",
       "      <td>-0.911583</td>\n",
       "      <td>1</td>\n",
       "      <td>1</td>\n",
       "      <td>0.027988</td>\n",
       "      <td>0</td>\n",
       "    </tr>\n",
       "    <tr>\n",
       "      <th>9997</th>\n",
       "      <td>0.604988</td>\n",
       "      <td>0.0</td>\n",
       "      <td>0.0</td>\n",
       "      <td>-0.278604</td>\n",
       "      <td>0.725432</td>\n",
       "      <td>-1.225848</td>\n",
       "      <td>-0.911583</td>\n",
       "      <td>0</td>\n",
       "      <td>1</td>\n",
       "      <td>-1.008643</td>\n",
       "      <td>1</td>\n",
       "    </tr>\n",
       "    <tr>\n",
       "      <th>9998</th>\n",
       "      <td>1.256835</td>\n",
       "      <td>1.0</td>\n",
       "      <td>1.0</td>\n",
       "      <td>0.293517</td>\n",
       "      <td>-0.723910</td>\n",
       "      <td>-0.022608</td>\n",
       "      <td>0.807737</td>\n",
       "      <td>1</td>\n",
       "      <td>0</td>\n",
       "      <td>-0.125231</td>\n",
       "      <td>1</td>\n",
       "    </tr>\n",
       "    <tr>\n",
       "      <th>9999</th>\n",
       "      <td>1.463771</td>\n",
       "      <td>0.0</td>\n",
       "      <td>0.0</td>\n",
       "      <td>-1.041433</td>\n",
       "      <td>0.000761</td>\n",
       "      <td>0.859965</td>\n",
       "      <td>-0.911583</td>\n",
       "      <td>1</td>\n",
       "      <td>0</td>\n",
       "      <td>-1.076370</td>\n",
       "      <td>0</td>\n",
       "    </tr>\n",
       "  </tbody>\n",
       "</table>\n",
       "<p>10000 rows × 11 columns</p>\n",
       "</div>"
      ],
      "text/plain": [
       "      CreditScore  Geography  Gender       Age    Tenure   Balance  \\\n",
       "0       -0.326221        0.0     0.0  0.293517 -1.086246 -1.225848   \n",
       "1       -0.440036        2.0     0.0  0.198164 -1.448581  0.117350   \n",
       "2       -1.536794        0.0     0.0  0.293517  1.087768  1.333053   \n",
       "3        0.501521        0.0     0.0  0.007457 -1.448581 -1.225848   \n",
       "4        2.063884        2.0     0.0  0.388871 -1.086246  0.785728   \n",
       "...           ...        ...     ...       ...       ...       ...   \n",
       "9995     1.246488        0.0     1.0  0.007457  0.000761 -1.225848   \n",
       "9996    -1.391939        0.0     1.0 -0.373958  1.812439 -0.306379   \n",
       "9997     0.604988        0.0     0.0 -0.278604  0.725432 -1.225848   \n",
       "9998     1.256835        1.0     1.0  0.293517 -0.723910 -0.022608   \n",
       "9999     1.463771        0.0     0.0 -1.041433  0.000761  0.859965   \n",
       "\n",
       "      NumOfProducts  HasCrCard  IsActiveMember  EstimatedSalary  Exited  \n",
       "0         -0.911583          1               1         0.021886       1  \n",
       "1         -0.911583          0               1         0.216534       0  \n",
       "2          2.527057          1               0         0.240687       1  \n",
       "3          0.807737          0               0        -0.108918       0  \n",
       "4         -0.911583          1               1        -0.365276       0  \n",
       "...             ...        ...             ...              ...     ...  \n",
       "9995       0.807737          1               0        -0.066419       0  \n",
       "9996      -0.911583          1               1         0.027988       0  \n",
       "9997      -0.911583          0               1        -1.008643       1  \n",
       "9998       0.807737          1               0        -0.125231       1  \n",
       "9999      -0.911583          1               0        -1.076370       0  \n",
       "\n",
       "[10000 rows x 11 columns]"
      ]
     },
     "metadata": {},
     "output_type": "display_data"
    }
   ],
   "source": [
    "col_cat = churn.select_dtypes(include=['object']).columns\n",
    "# Se crea una instancia de esta clase.\n",
    "encoder =OrdinalEncoder()\n",
    "# Se transforman los datos, se obtiene la lista de características categóricas y se agregan los nombres de las columnas\n",
    "churn[col_cat]= pd.DataFrame(encoder.fit_transform(churn[col_cat]))\n",
    "display(churn)"
   ]
  },
  {
   "cell_type": "markdown",
   "id": "d7140992-39d5-4a8e-8aff-b8606f86084d",
   "metadata": {},
   "source": [
    "Se obtiene las llaves de nuestra codificación ordinal. En la columna Geography tenemos que France es 0, Germany es 1 y Spain es 2. En la columna de Gender 0 es Female y 1 es Male."
   ]
  },
  {
   "cell_type": "code",
   "execution_count": 10,
   "id": "7106d635-10a5-469e-9960-701aad468a93",
   "metadata": {},
   "outputs": [
    {
     "name": "stdout",
     "output_type": "stream",
     "text": [
      "Característica 0:\n",
      "  France -> 0\n",
      "  Germany -> 1\n",
      "  Spain -> 2\n",
      "Característica 1:\n",
      "  Female -> 0\n",
      "  Male -> 1\n"
     ]
    }
   ],
   "source": [
    "for idx, categories in enumerate(encoder.categories_):\n",
    "    print(f\"Característica {idx}:\")\n",
    "    for category, number in zip(categories, range(len(categories))):\n",
    "        print(f\"  {category} -> {number}\")"
   ]
  },
  {
   "cell_type": "markdown",
   "id": "d5e73621-e82d-479a-83ab-79c09afa53ed",
   "metadata": {},
   "source": [
    "Paso 4. Equilibrio de clases. Entrenar el modelo sin tener en cuenta el desequilibrio."
   ]
  },
  {
   "cell_type": "code",
   "execution_count": 11,
   "id": "40bcf73e",
   "metadata": {},
   "outputs": [
    {
     "name": "stdout",
     "output_type": "stream",
     "text": [
      "0    7963\n",
      "1    2037\n",
      "Name: Exited, dtype: int64\n"
     ]
    }
   ],
   "source": [
    "frecuencia_valores = churn['Exited'].value_counts()\n",
    "print(frecuencia_valores)"
   ]
  },
  {
   "cell_type": "markdown",
   "id": "dbf5aea9",
   "metadata": {},
   "source": [
    "Observamos que tenemos alrededdor de 3.9091801669 veces más valores negativos (0, que no se han ido) que valores positivos (1, que se han ido). De manera total tenemos 7963 valores negativos y 2037 valores positivos."
   ]
  },
  {
   "cell_type": "markdown",
   "id": "405e88e2-7b08-4014-8090-fab9e617cf5d",
   "metadata": {},
   "source": [
    "Paso 4.1 Segmentar los datos fuente en tres conjuntos: entrenamiento (60%), validación (20%) y prueba (20%)."
   ]
  },
  {
   "cell_type": "code",
   "execution_count": 12,
   "id": "5997bf81-b1a6-4ab9-bdc8-6e3f0efdfb05",
   "metadata": {},
   "outputs": [],
   "source": [
    "# Dividir los datos en características y objetivo\n",
    "features = churn.drop(columns=['Exited'])\n",
    "target = churn['Exited']"
   ]
  },
  {
   "cell_type": "code",
   "execution_count": 13,
   "id": "1be6c06c-6a94-4d71-80ac-fb5177f6d6e6",
   "metadata": {},
   "outputs": [],
   "source": [
    "# Dividimos los datos en dos partes: 80% para entrenamiento+validación y 20% para prueba\n",
    "features_train_val, features_test, target_train_val, target_test = train_test_split(features, target, test_size=0.2, random_state=12345)\n",
    "\n",
    "# Dividimos el conjunto de entrenamiento+validación en dos partes: \n",
    "#75% (60% del total original) para entrenamiento y 25% (20% del total original) para validación\n",
    "features_train, features_val, target_train, target_val = train_test_split(features_train_val, target_train_val, test_size=0.25, random_state=12345)"
   ]
  },
  {
   "cell_type": "markdown",
   "id": "448a552e-58b9-432d-a14a-f25101419499",
   "metadata": {},
   "source": [
    "Paso 4.2 Modelo de Bosque aleatorio."
   ]
  },
  {
   "cell_type": "markdown",
   "id": "2aae5686-8f64-4ff7-9473-1c69def52266",
   "metadata": {},
   "source": [
    "Para este modelo determinamos best_score igual a 0 y el número de estimadores (best_est) en 0 árboles de nuestro bosque. De esta manera se itera por los árboles de nuestro rango del hiperparámetro. El modelo se configura por el número de árboles, con el estado random de 12345. Se entrena el modelo con el conjunto de entrenamiento. Se calcula la puntuación de exactitud usando el conjunto de validación. De está forma obtenemos el mejor modelo y su exactitud, con el número de estimadores."
   ]
  },
  {
   "cell_type": "code",
   "execution_count": 14,
   "id": "9bf8255a-54d2-41fe-9449-19f0d1175c94",
   "metadata": {},
   "outputs": [
    {
     "name": "stdout",
     "output_type": "stream",
     "text": [
      "La exactitud del mejor modelo usando el conjunto de validación (n_estimators = 51): 0.864\n"
     ]
    }
   ],
   "source": [
    "best_score = 0\n",
    "best_est = 0\n",
    "\n",
    "for est in range(1, 101): \n",
    "    model = RandomForestClassifier(random_state=12345, n_estimators=est)\n",
    "    model.fit(features_train, target_train)\n",
    "    score = model.score(features_val, target_val)\n",
    "    if score > best_score:\n",
    "        best_score = score\n",
    "        best_est = est\n",
    "\n",
    "print(\"La exactitud del mejor modelo usando el conjunto de validación (n_estimators = {}): {}\".format(best_est, best_score))"
   ]
  },
  {
   "cell_type": "markdown",
   "id": "e8642852-4202-48c4-83fb-bec4a0069d11",
   "metadata": {},
   "source": [
    "La exactitud del mejor modelo usando el conjunto de validación, con 51 estimadores es de 0.864. Esta puntuación de exacttitud se obtuvo sin verificar el equilibrio de clases. \n"
   ]
  },
  {
   "cell_type": "markdown",
   "id": "c72ab1f0-683a-4f45-a8b5-52353787bbdd",
   "metadata": {},
   "source": [
    "4.3 Matriz de confusión."
   ]
  },
  {
   "cell_type": "code",
   "execution_count": 15,
   "id": "d2187f0b-bb06-446a-91fe-968b5257ed8e",
   "metadata": {},
   "outputs": [
    {
     "name": "stdout",
     "output_type": "stream",
     "text": [
      "[[1550   59]\n",
      " [ 220  171]]\n"
     ]
    }
   ],
   "source": [
    "predicted_val = model.predict(features_val)\n",
    "print(confusion_matrix(target_val, predicted_val))"
   ]
  },
  {
   "cell_type": "markdown",
   "id": "28a68a0a-72aa-424a-bc19-2485dccc2ef6",
   "metadata": {},
   "source": [
    "Observamos que tenemos 1550 verdaderos negativos (VN), 171 verdaderos positivos (VP), 220 falsos negativos (FN) y 59 falsos positivos (FP). Nuestro modelo parece tener una mayor cantidad de negativos (0) que positivos (1)."
   ]
  },
  {
   "cell_type": "markdown",
   "id": "769ae108-3fd9-4fc4-8054-99c166ddff49",
   "metadata": {},
   "source": [
    "4.4 Valor de F1."
   ]
  },
  {
   "cell_type": "code",
   "execution_count": 16,
   "id": "9141a591-3162-43f3-93b5-cd15d8362815",
   "metadata": {},
   "outputs": [
    {
     "name": "stdout",
     "output_type": "stream",
     "text": [
      "0.5507246376811594\n"
     ]
    }
   ],
   "source": [
    "print(f1_score(target_val, predicted_val))"
   ]
  },
  {
   "cell_type": "markdown",
   "id": "36fe9714-f56f-4c5c-a0be-98e2b91b15e8",
   "metadata": {},
   "source": [
    "El valor F1 es una métrica de evaluación que es la media armónica de las métricas de sensibilidad  y precisión Sus valores van de 0 a 1, siendo 1 donde hay una mayor sensibilidad y precisión para la predicción de la clase positiva. En este caso, vemos que nuestro valor F1, con este modelo sin equilibrar es mediocre."
   ]
  },
  {
   "cell_type": "markdown",
   "id": "dde65218-7154-4475-81ad-6bd3fcec44f8",
   "metadata": {},
   "source": [
    "Paso 5. Mejorar la calidad del modelo"
   ]
  },
  {
   "cell_type": "markdown",
   "id": "18c0e113-6854-4c11-8302-f9013b15bba3",
   "metadata": {},
   "source": [
    "5.1 Modelo balanceado, ajuste del peso de clase"
   ]
  },
  {
   "cell_type": "markdown",
   "id": "757cf5bc-ecc5-440c-ae03-a7466ac82c63",
   "metadata": {},
   "source": [
    "Usamos el modelo de bosque aleatorio, con el peso de clase balanceado."
   ]
  },
  {
   "cell_type": "code",
   "execution_count": 17,
   "id": "d70353f7-c003-401e-b24d-b777a2d565dd",
   "metadata": {},
   "outputs": [
    {
     "name": "stdout",
     "output_type": "stream",
     "text": [
      "La exactitud del mejor modelo usando el conjunto de validación (n_estimators = 46): 0.865\n"
     ]
    }
   ],
   "source": [
    "best_score = 0\n",
    "best_est = 0\n",
    "\n",
    "for est in range(1, 101): \n",
    "    model_eq = RandomForestClassifier(random_state=12345, n_estimators=est, class_weight='balanced')\n",
    "    model_eq.fit(features_train, target_train)\n",
    "    score_eq = model_eq.score(features_val, target_val)\n",
    "    if score_eq > best_score:\n",
    "        best_score = score_eq\n",
    "        best_est = est\n",
    "\n",
    "print(\"La exactitud del mejor modelo usando el conjunto de validación (n_estimators = {}): {}\".format(best_est, best_score))"
   ]
  },
  {
   "cell_type": "code",
   "execution_count": 18,
   "id": "9de95c99-2216-453a-9362-83facdddadeb",
   "metadata": {},
   "outputs": [
    {
     "name": "stdout",
     "output_type": "stream",
     "text": [
      "Obtuvimos la matriz de confusión con los siguientes parámetros: [[1564   45]\n",
      " [ 227  164]]\n",
      "\n",
      "El valor de F1 que obtuvimos es de 0.5466666666666666\n"
     ]
    }
   ],
   "source": [
    "predicted_val_eq = model_eq.predict(features_val)\n",
    "#Matriz de confusión\n",
    "print(\"Obtuvimos la matriz de confusión con los siguientes parámetros:\", confusion_matrix(target_val, predicted_val_eq))\n",
    "print()\n",
    "#Valor de F1\n",
    "print(\"El valor de F1 que obtuvimos es de\", f1_score(target_val, predicted_val_eq))"
   ]
  },
  {
   "cell_type": "markdown",
   "id": "4deeab63-f748-4693-8cab-88c411e8f824",
   "metadata": {},
   "source": [
    "Los resultados no fueron mejores a comparación del modelo no balanceado. A continuación intentaremos el sobremuestreo."
   ]
  },
  {
   "cell_type": "markdown",
   "id": "f3bb71b2-8baf-42a3-86d8-084ac1b3f2c7",
   "metadata": {},
   "source": [
    "5.2 Sobremuestreo"
   ]
  },
  {
   "cell_type": "markdown",
   "id": "27ab944f-a6aa-4913-b09a-c601b39a5a2a",
   "metadata": {},
   "source": [
    "Primero vemos las dimensiones de las características y objetivos de las respuestas 1 y 0, respectivamente."
   ]
  },
  {
   "cell_type": "code",
   "execution_count": 19,
   "id": "bf185bbf-e3f7-4e21-8164-e4294365d432",
   "metadata": {},
   "outputs": [
    {
     "name": "stdout",
     "output_type": "stream",
     "text": [
      "(4781, 10)\n",
      "(1219, 10)\n",
      "(4781,)\n",
      "(1219,)\n"
     ]
    }
   ],
   "source": [
    "features_zeros=features_train[target_train == 0]\n",
    "features_ones=features_train[target_train == 1]\n",
    "target_zeros=target_train[target_train == 0]\n",
    "target_ones=target_train[target_train == 1]\n",
    "\n",
    "print(features_zeros.shape)\n",
    "print(features_ones.shape)\n",
    "print(target_zeros.shape)\n",
    "print(target_ones.shape)"
   ]
  },
  {
   "cell_type": "markdown",
   "id": "a05fabfe-0f65-4aa2-ad26-8a1c28a84090",
   "metadata": {},
   "source": [
    "Definimos la función upsample():"
   ]
  },
  {
   "cell_type": "code",
   "execution_count": 20,
   "id": "af4a66a8-a20d-4f4c-86e0-bf2d1171034a",
   "metadata": {},
   "outputs": [],
   "source": [
    "def upsample(features, target, repeat):\n",
    "    features_zeros = features[target == 0]\n",
    "    features_ones = features[target == 1]\n",
    "    target_zeros = target[target == 0]\n",
    "    target_ones = target[target == 1]\n",
    "    features_upsampled = pd.concat([features_zeros] +\n",
    "                                   [features_ones] * repeat)\n",
    "    target_upsampled = pd.concat([target_zeros] +\n",
    "                                 [target_ones] * repeat)\n",
    "\n",
    "    return features_upsampled, target_upsampled"
   ]
  },
  {
   "cell_type": "markdown",
   "id": "7773b361-c3f4-4420-a7cb-ddf92382e708",
   "metadata": {},
   "source": [
    "Hay 3.9220672683 veces más respuestas 0 que 1. Multiplicaremos las respuestas positivas(1) 4 veces. Barajeamos los datos para mezclar las observaciones de forma aleatoria. Observamos las dimensiones de nuestras caracteristicas y objetivos."
   ]
  },
  {
   "cell_type": "code",
   "execution_count": 21,
   "id": "a1bcecf1-583f-4014-9cff-2846a21f1268",
   "metadata": {},
   "outputs": [
    {
     "name": "stdout",
     "output_type": "stream",
     "text": [
      "(9657, 10)\n",
      "(9657,)\n"
     ]
    }
   ],
   "source": [
    "features_upsampled, target_upsampled = upsample(features_train, target_train, 4)\n",
    "\n",
    "features_upsampled, target_upsampled = shuffle(features_upsampled, target_upsampled, random_state=12345)\n",
    "\n",
    "print(features_upsampled.shape)\n",
    "print(target_upsampled.shape)"
   ]
  },
  {
   "cell_type": "markdown",
   "id": "cd2790ed-006a-4688-adbd-0b9945cd00d8",
   "metadata": {},
   "source": [
    "Hacemos la prueba con el modelo de bosque aleatorio, balanceado y no balanceado"
   ]
  },
  {
   "cell_type": "markdown",
   "id": "301f43db-c906-47e1-a9b3-b00d77a9425b",
   "metadata": {},
   "source": [
    "No balanceado"
   ]
  },
  {
   "cell_type": "code",
   "execution_count": null,
   "id": "b08a9123-eb05-42e7-93d5-7f996a6a0c4f",
   "metadata": {},
   "outputs": [],
   "source": [
    "best_score = 0\n",
    "best_est = 0\n",
    "\n",
    "for est in range(1, 101): \n",
    "    model_up_no_bal = RandomForestClassifier(random_state=12345, n_estimators=est)\n",
    "    model_up_no_bal.fit(features_upsampled, target_upsampled)\n",
    "    score_eq = model_up_no_bal.score(features_val, target_val)\n",
    "    if score_eq > best_score:\n",
    "        best_score = score_eq\n",
    "        best_est = est\n",
    "\n",
    "print(\"La exactitud del mejor modelo usando el conjunto de validación (n_estimators = {}): {}\".format(best_est, best_score))"
   ]
  },
  {
   "cell_type": "markdown",
   "id": "ef600be1-55ec-466d-856a-ac34f1273afe",
   "metadata": {},
   "source": [
    "Valor F1"
   ]
  },
  {
   "cell_type": "code",
   "execution_count": null,
   "id": "35c26a2c-07e0-4580-8102-fb189af004dc",
   "metadata": {},
   "outputs": [],
   "source": [
    "predicted_up_no_bal= model_up_no_bal.predict(features_val)\n",
    "#Valor de F1\n",
    "print(\"El valor de F1 que obtuvimos es de\", f1_score(target_val, predicted_up_no_bal))"
   ]
  },
  {
   "cell_type": "markdown",
   "id": "ca3a6f4d-dd19-420b-a459-ff4fae64e39e",
   "metadata": {},
   "source": [
    "Balanceado"
   ]
  },
  {
   "cell_type": "code",
   "execution_count": null,
   "id": "b72bc8cf-59f1-460f-a8c5-25a865bdb03b",
   "metadata": {},
   "outputs": [],
   "source": [
    "best_score = 0\n",
    "best_est = 0\n",
    "\n",
    "for est in range(1, 101): \n",
    "    model_up_bal= RandomForestClassifier(random_state=12345, n_estimators=est, class_weight='balanced')\n",
    "    model_up_bal.fit(features_upsampled, target_upsampled)\n",
    "    score_eq = model_up_bal.score(features_val, target_val)\n",
    "    if score_eq > best_score:\n",
    "        best_score = score_eq\n",
    "        best_est = est\n",
    "\n",
    "display(\"La exactitud del mejor modelo usando el conjunto de validación (n_estimators = {}): {}\".format(best_est, best_score))"
   ]
  },
  {
   "cell_type": "markdown",
   "id": "32d59302-6b60-450e-994d-b5435fcd6baf",
   "metadata": {},
   "source": [
    "Valor F1"
   ]
  },
  {
   "cell_type": "code",
   "execution_count": null,
   "id": "5e0ed536-12e2-4172-a947-2280a509eb87",
   "metadata": {},
   "outputs": [],
   "source": [
    "predicted_up_bal= model_up_bal.predict(features_val)\n",
    "#Valor de F1\n",
    "display(\"El valor de F1 que obtuvimos es de\", f1_score(target_val, predicted_up_bal))"
   ]
  },
  {
   "cell_type": "markdown",
   "id": "80235c6e-40a2-4b2a-abc8-389ed0cb52f2",
   "metadata": {},
   "source": [
    "Debido al sobremuestreo obtuvimos mejores valores de F1 usando el modelo de bosque aleatorio, balanceado o no. El balanceado tiene un valor F1 y exactitud ligeramente superior a comparación del no balanceado. "
   ]
  },
  {
   "cell_type": "markdown",
   "id": "99533977-d8bd-4525-94fc-eed93accf8ee",
   "metadata": {},
   "source": [
    "5.3 Ajuste del umbral de clasificación, curva ROC"
   ]
  },
  {
   "cell_type": "markdown",
   "id": "fff98154-ea10-4987-9b74-bac8879715d6",
   "metadata": {},
   "source": [
    "Obtenemos las probabilidades predichas de la clase positiva (1)."
   ]
  },
  {
   "cell_type": "code",
   "execution_count": null,
   "id": "fc3fa194-d149-423a-9e25-d6b43059f5df",
   "metadata": {},
   "outputs": [],
   "source": [
    "probabilities_valid = model_up_bal.predict_proba(features_val)\n",
    "probabilities_one_valid = probabilities_valid[:, 1]"
   ]
  },
  {
   "cell_type": "markdown",
   "id": "15c6d80d-90bf-45ea-8921-011b6286bc51",
   "metadata": {},
   "source": [
    "Calculamos el umbral óptimo y el valor F1 de mayor puntaje."
   ]
  },
  {
   "cell_type": "code",
   "execution_count": null,
   "id": "99b66949-e9d1-48d0-9a8d-1b7727b09be2",
   "metadata": {},
   "outputs": [],
   "source": [
    "# Calculamos la curva ROC\n",
    "fpr, tpr, thresholds = roc_curve(target_val, probabilities_one_valid)\n",
    "\n",
    "# Calculamos el F1-score para diferentes umbrales\n",
    "f1_scores = [f1_score(target_val, probabilities_one_valid >= t) for t in thresholds]\n",
    "\n",
    "# Encontramos el umbral que maximiza el F1-score\n",
    "optimal_threshold = thresholds[np.argmax(f1_scores)]\n",
    "max_f1_score = max(f1_scores)\n",
    "\n",
    "print(f\"Umbral óptimo: {optimal_threshold:.2f}\")\n",
    "print(f\"F1-score máximo: {max_f1_score:.2f}\")\n",
    "\n",
    "# Hacemos predicciones con el umbral óptimo\n",
    "y_pred_optimal = (probabilities_one_valid >= optimal_threshold).astype(int)\n",
    "\n",
    "# Calculamos el F1-score y otras métricas\n",
    "final_f1_score = f1_score(target_val, y_pred_optimal)\n",
    "print(f\"F1-score con umbral óptimo: {final_f1_score:.2f}\")"
   ]
  },
  {
   "cell_type": "markdown",
   "id": "8796ab89-73c8-4d65-9e90-d2faeda678d7",
   "metadata": {},
   "source": [
    "De esta forma obtenemos que el umbral óptimo es de 0.46 a comparación del umbral inicial de 0.5 y de esta forma obtenemos un valor de F1 redondeado de 0.59. Este valor sugiere que el modelo tiene un rendimiento moderado en términos de equilibrio entre precisión y recall. Ni la precisión ni el recall son especialmente altos."
   ]
  },
  {
   "cell_type": "markdown",
   "id": "c543284b-b167-4b8a-bcd9-2feef9fd9454",
   "metadata": {},
   "source": [
    "5.4 Métrica AUC-ROC"
   ]
  },
  {
   "cell_type": "markdown",
   "id": "36d493ad-2087-466f-b6c6-7beef936badd",
   "metadata": {},
   "source": [
    "AUC-ROC equivale al área bajo la curva ROC (Receiver Operating Characteristic). Los valores están en el rango de 0 a 1. Para un modelo aleatorio el valor es de 0.5."
   ]
  },
  {
   "cell_type": "code",
   "execution_count": null,
   "id": "2a918934-2c6d-4d82-aed5-cdd411346552",
   "metadata": {},
   "outputs": [],
   "source": [
    "auc_roc = roc_auc_score(target_val, probabilities_one_valid)\n",
    "print(f\"El valor de AUC-ROC es de: {auc_roc:.2f}\")"
   ]
  },
  {
   "cell_type": "markdown",
   "id": "3db521a9-3a64-4e0d-aa05-3e6d6f75236d",
   "metadata": {},
   "source": [
    "Obtuvimos un valor redondeado de 0.85 de la métrica AUC-ROC. El modelo parece tener una buena capacidad para distinguir entre las clases positiva y negativa. Está funcionando mejor que una predicción aleatoria."
   ]
  },
  {
   "cell_type": "markdown",
   "id": "02327c6f-0a6c-4038-8f9e-1bb5e68ad4db",
   "metadata": {},
   "source": [
    "Paso 6. Prueba del modelo."
   ]
  },
  {
   "cell_type": "markdown",
   "id": "9cd7bbb9-193f-47b3-bc68-690f3f222c0b",
   "metadata": {},
   "source": [
    "Con estos valores de AUC-ROC (0.85) y con el valor máximo de F1 (0.59), usando el modelo de bosque aleatorio con una exactitud de 0.8545 con 98 estimadores, tenemos un modelo para predecir si un cliente dejará o no el banco."
   ]
  },
  {
   "cell_type": "code",
   "execution_count": null,
   "id": "e3d1abe0-89f7-4821-b5f6-668d83d37a33",
   "metadata": {},
   "outputs": [],
   "source": [
    "model_test= RandomForestClassifier(random_state=12345, n_estimators=98, class_weight='balanced')\n",
    "model_test.fit(features_upsampled, target_upsampled)\n",
    "score_test = model_test.score(features_test, target_test)\n",
    "print(\"Puntuación de exactitud usando el conjunto de prueba, con 98 estimadores, balanceado y con sobremuestreo es de\", score_test)"
   ]
  },
  {
   "cell_type": "markdown",
   "id": "fffbb350-d863-4888-880e-b857f85287ce",
   "metadata": {},
   "source": [
    "Nuestro modelo muestra indicios de sobreajuste. La exactitud obtenida usando el conjunto de prueba es de 0.842. Esto es ligeramente menor a comparación de la puntuación obtenida usando el conjunto de validación: 0.8545. Esto es comprensible. Estamos usando una quinta parte de la cantidad de datos iniciales."
   ]
  }
 ],
 "metadata": {
  "ExecuteTimeLog": [
   {
    "duration": 339,
    "start_time": "2024-06-24T02:21:51.134Z"
   },
   {
    "duration": 28,
    "start_time": "2024-06-24T02:21:59.046Z"
   },
   {
    "duration": 1486,
    "start_time": "2024-06-24T02:22:15.845Z"
   },
   {
    "duration": 1249,
    "start_time": "2024-06-24T02:22:17.335Z"
   },
   {
    "duration": 0,
    "start_time": "2024-06-24T02:22:18.590Z"
   },
   {
    "duration": 0,
    "start_time": "2024-06-24T02:22:18.594Z"
   },
   {
    "duration": 0,
    "start_time": "2024-06-24T02:22:18.596Z"
   },
   {
    "duration": 0,
    "start_time": "2024-06-24T02:22:18.599Z"
   },
   {
    "duration": 0,
    "start_time": "2024-06-24T02:22:18.601Z"
   },
   {
    "duration": 0,
    "start_time": "2024-06-24T02:22:18.603Z"
   },
   {
    "duration": 0,
    "start_time": "2024-06-24T02:22:18.605Z"
   },
   {
    "duration": 0,
    "start_time": "2024-06-24T02:22:18.631Z"
   },
   {
    "duration": 0,
    "start_time": "2024-06-24T02:22:18.632Z"
   },
   {
    "duration": 0,
    "start_time": "2024-06-24T02:22:18.635Z"
   },
   {
    "duration": 0,
    "start_time": "2024-06-24T02:22:18.637Z"
   },
   {
    "duration": 0,
    "start_time": "2024-06-24T02:22:18.639Z"
   },
   {
    "duration": 0,
    "start_time": "2024-06-24T02:22:18.640Z"
   },
   {
    "duration": 0,
    "start_time": "2024-06-24T02:22:18.642Z"
   },
   {
    "duration": 0,
    "start_time": "2024-06-24T02:22:18.646Z"
   },
   {
    "duration": 0,
    "start_time": "2024-06-24T02:22:18.648Z"
   },
   {
    "duration": 0,
    "start_time": "2024-06-24T02:22:18.650Z"
   },
   {
    "duration": 0,
    "start_time": "2024-06-24T02:22:18.651Z"
   },
   {
    "duration": 0,
    "start_time": "2024-06-24T02:22:18.653Z"
   },
   {
    "duration": 0,
    "start_time": "2024-06-24T02:22:18.655Z"
   },
   {
    "duration": 1,
    "start_time": "2024-06-24T02:22:18.656Z"
   },
   {
    "duration": 1,
    "start_time": "2024-06-24T02:22:18.662Z"
   },
   {
    "duration": 0,
    "start_time": "2024-06-24T02:22:18.664Z"
   },
   {
    "duration": 0,
    "start_time": "2024-06-24T02:22:18.666Z"
   },
   {
    "duration": 0,
    "start_time": "2024-06-24T02:22:18.668Z"
   },
   {
    "duration": 0,
    "start_time": "2024-06-24T02:22:18.670Z"
   },
   {
    "duration": 0,
    "start_time": "2024-06-24T02:22:18.672Z"
   },
   {
    "duration": 1198,
    "start_time": "2024-06-24T19:19:37.810Z"
   },
   {
    "duration": 1146,
    "start_time": "2024-06-24T19:19:39.011Z"
   },
   {
    "duration": 0,
    "start_time": "2024-06-24T19:19:40.163Z"
   },
   {
    "duration": 0,
    "start_time": "2024-06-24T19:19:40.165Z"
   },
   {
    "duration": 0,
    "start_time": "2024-06-24T19:19:40.168Z"
   },
   {
    "duration": 0,
    "start_time": "2024-06-24T19:19:40.170Z"
   },
   {
    "duration": 0,
    "start_time": "2024-06-24T19:19:40.174Z"
   },
   {
    "duration": 0,
    "start_time": "2024-06-24T19:19:40.177Z"
   },
   {
    "duration": 0,
    "start_time": "2024-06-24T19:19:40.180Z"
   },
   {
    "duration": 0,
    "start_time": "2024-06-24T19:19:40.183Z"
   },
   {
    "duration": 0,
    "start_time": "2024-06-24T19:19:40.186Z"
   },
   {
    "duration": 0,
    "start_time": "2024-06-24T19:19:40.189Z"
   },
   {
    "duration": 0,
    "start_time": "2024-06-24T19:19:40.192Z"
   },
   {
    "duration": 0,
    "start_time": "2024-06-24T19:19:40.193Z"
   },
   {
    "duration": 0,
    "start_time": "2024-06-24T19:19:40.196Z"
   },
   {
    "duration": 0,
    "start_time": "2024-06-24T19:19:40.232Z"
   },
   {
    "duration": 0,
    "start_time": "2024-06-24T19:19:40.234Z"
   },
   {
    "duration": 0,
    "start_time": "2024-06-24T19:19:40.236Z"
   },
   {
    "duration": 0,
    "start_time": "2024-06-24T19:19:40.240Z"
   },
   {
    "duration": 0,
    "start_time": "2024-06-24T19:19:40.242Z"
   },
   {
    "duration": 0,
    "start_time": "2024-06-24T19:19:40.243Z"
   },
   {
    "duration": 0,
    "start_time": "2024-06-24T19:19:40.246Z"
   },
   {
    "duration": 0,
    "start_time": "2024-06-24T19:19:40.248Z"
   },
   {
    "duration": 0,
    "start_time": "2024-06-24T19:19:40.250Z"
   },
   {
    "duration": 0,
    "start_time": "2024-06-24T19:19:40.252Z"
   },
   {
    "duration": 0,
    "start_time": "2024-06-24T19:19:40.254Z"
   },
   {
    "duration": 0,
    "start_time": "2024-06-24T19:19:40.256Z"
   },
   {
    "duration": 0,
    "start_time": "2024-06-24T19:19:40.258Z"
   },
   {
    "duration": 0,
    "start_time": "2024-06-24T19:19:40.263Z"
   },
   {
    "duration": 309,
    "start_time": "2024-06-24T19:54:44.735Z"
   },
   {
    "duration": 520,
    "start_time": "2024-06-24T19:54:56.379Z"
   },
   {
    "duration": 335,
    "start_time": "2024-06-24T23:08:26.450Z"
   },
   {
    "duration": 1235,
    "start_time": "2024-06-24T23:08:32.619Z"
   },
   {
    "duration": 872,
    "start_time": "2024-06-24T23:08:34.660Z"
   },
   {
    "duration": 37,
    "start_time": "2024-06-24T23:09:09.725Z"
   },
   {
    "duration": 92,
    "start_time": "2024-06-24T23:09:22.543Z"
   },
   {
    "duration": 1235,
    "start_time": "2024-06-24T23:09:42.061Z"
   },
   {
    "duration": 33,
    "start_time": "2024-06-24T23:09:43.300Z"
   },
   {
    "duration": 110,
    "start_time": "2024-06-24T23:09:43.336Z"
   },
   {
    "duration": 15,
    "start_time": "2024-06-24T23:09:43.448Z"
   },
   {
    "duration": 28,
    "start_time": "2024-06-24T23:09:43.468Z"
   },
   {
    "duration": 45,
    "start_time": "2024-06-24T23:09:43.499Z"
   },
   {
    "duration": 27,
    "start_time": "2024-06-24T23:09:43.550Z"
   },
   {
    "duration": 81,
    "start_time": "2024-06-24T23:09:43.579Z"
   },
   {
    "duration": 37,
    "start_time": "2024-06-24T23:09:43.664Z"
   },
   {
    "duration": 5,
    "start_time": "2024-06-24T23:09:43.705Z"
   },
   {
    "duration": 8,
    "start_time": "2024-06-24T23:09:43.731Z"
   },
   {
    "duration": 7,
    "start_time": "2024-06-24T23:09:43.742Z"
   },
   {
    "duration": 12,
    "start_time": "2024-06-24T23:09:43.752Z"
   },
   {
    "duration": 1224,
    "start_time": "2024-06-25T04:30:28.559Z"
   },
   {
    "duration": 44,
    "start_time": "2024-06-25T04:30:29.787Z"
   },
   {
    "duration": 112,
    "start_time": "2024-06-25T04:30:29.834Z"
   },
   {
    "duration": 15,
    "start_time": "2024-06-25T04:30:29.950Z"
   },
   {
    "duration": 29,
    "start_time": "2024-06-25T04:30:29.968Z"
   },
   {
    "duration": 20,
    "start_time": "2024-06-25T04:30:30.032Z"
   },
   {
    "duration": 33,
    "start_time": "2024-06-25T04:30:30.055Z"
   },
   {
    "duration": 51,
    "start_time": "2024-06-25T04:30:30.131Z"
   },
   {
    "duration": 61,
    "start_time": "2024-06-25T04:30:30.185Z"
   },
   {
    "duration": 5,
    "start_time": "2024-06-25T04:30:30.251Z"
   },
   {
    "duration": 7,
    "start_time": "2024-06-25T04:30:30.259Z"
   },
   {
    "duration": 9,
    "start_time": "2024-06-25T04:30:30.268Z"
   },
   {
    "duration": 52,
    "start_time": "2024-06-25T04:30:30.280Z"
   },
   {
    "duration": 1257,
    "start_time": "2024-06-25T04:32:22.679Z"
   },
   {
    "duration": 27,
    "start_time": "2024-06-25T04:32:23.940Z"
   },
   {
    "duration": 118,
    "start_time": "2024-06-25T04:32:23.971Z"
   },
   {
    "duration": 40,
    "start_time": "2024-06-25T04:32:24.093Z"
   },
   {
    "duration": 34,
    "start_time": "2024-06-25T04:32:24.139Z"
   },
   {
    "duration": 54,
    "start_time": "2024-06-25T04:32:24.177Z"
   },
   {
    "duration": 28,
    "start_time": "2024-06-25T04:32:24.234Z"
   },
   {
    "duration": 85,
    "start_time": "2024-06-25T04:32:24.265Z"
   },
   {
    "duration": 38,
    "start_time": "2024-06-25T04:32:24.352Z"
   },
   {
    "duration": 6,
    "start_time": "2024-06-25T04:32:24.393Z"
   },
   {
    "duration": 7,
    "start_time": "2024-06-25T04:32:24.429Z"
   },
   {
    "duration": 7,
    "start_time": "2024-06-25T04:32:24.439Z"
   },
   {
    "duration": 11,
    "start_time": "2024-06-25T04:32:24.449Z"
   },
   {
    "duration": 52503,
    "start_time": "2024-06-25T04:32:24.465Z"
   },
   {
    "duration": 74,
    "start_time": "2024-06-25T04:33:16.971Z"
   },
   {
    "duration": 9,
    "start_time": "2024-06-25T04:33:17.048Z"
   },
   {
    "duration": 50193,
    "start_time": "2024-06-25T04:33:17.060Z"
   },
   {
    "duration": 59,
    "start_time": "2024-06-25T04:34:07.256Z"
   },
   {
    "duration": 91,
    "start_time": "2024-06-25T04:34:07.338Z"
   },
   {
    "duration": 7,
    "start_time": "2024-06-25T04:34:07.439Z"
   },
   {
    "duration": 26,
    "start_time": "2024-06-25T04:34:07.453Z"
   }
  ],
  "kernelspec": {
   "display_name": "Python 3 (ipykernel)",
   "language": "python",
   "name": "python3"
  },
  "language_info": {
   "codemirror_mode": {
    "name": "ipython",
    "version": 3
   },
   "file_extension": ".py",
   "mimetype": "text/x-python",
   "name": "python",
   "nbconvert_exporter": "python",
   "pygments_lexer": "ipython3",
   "version": "3.9.19"
  },
  "toc": {
   "base_numbering": 1,
   "nav_menu": {},
   "number_sections": true,
   "sideBar": true,
   "skip_h1_title": true,
   "title_cell": "Table of Contents",
   "title_sidebar": "Contents",
   "toc_cell": false,
   "toc_position": {},
   "toc_section_display": true,
   "toc_window_display": false
  }
 },
 "nbformat": 4,
 "nbformat_minor": 5
}
